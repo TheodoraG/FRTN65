{
  "nbformat": 4,
  "nbformat_minor": 0,
  "metadata": {
    "colab": {
      "name": "Copy of Lab1_Modeling&Learning_Gaiceanu_30_sep.ipynb",
      "provenance": [],
      "collapsed_sections": []
    },
    "kernelspec": {
      "name": "python3",
      "display_name": "Python 3"
    },
    "language_info": {
      "name": "python"
    }
  },
  "cells": [
    {
      "cell_type": "code",
      "metadata": {
        "id": "vEy_GYv9EqF2"
      },
      "source": [
        "# Import modules\n",
        "import numpy as np\n",
        "import pandas as pd\n",
        "import matplotlib.pyplot as plt\n",
        "\n",
        "from sklearn.neighbors import KNeighborsClassifier"
      ],
      "execution_count": 1,
      "outputs": []
    },
    {
      "cell_type": "code",
      "metadata": {
        "colab": {
          "base_uri": "https://localhost:8080/"
        },
        "id": "SEGGkr9pE0_V",
        "outputId": "110bd1ea-cdb2-4db1-88d1-c43a659b338e"
      },
      "source": [
        "# Download data\n",
        "!wget -O training_data.csv http://handsonml.control.lth.se/data/training_data.csv\n",
        "!wget -O songs_to_classify.csv http://handsonml.control.lth.se/data/songs_to_classify.csv"
      ],
      "execution_count": 2,
      "outputs": [
        {
          "output_type": "stream",
          "name": "stdout",
          "text": [
            "--2021-09-30 16:55:43--  http://handsonml.control.lth.se/data/training_data.csv\n",
            "Resolving handsonml.control.lth.se (handsonml.control.lth.se)... 130.235.83.49, 2001:470:28:988:1911:2012:4200:0\n",
            "Connecting to handsonml.control.lth.se (handsonml.control.lth.se)|130.235.83.49|:80... connected.\n",
            "HTTP request sent, awaiting response... 200 OK\n",
            "Length: 54950 (54K) [text/csv]\n",
            "Saving to: ‘training_data.csv’\n",
            "\n",
            "training_data.csv   100%[===================>]  53.66K   244KB/s    in 0.2s    \n",
            "\n",
            "2021-09-30 16:55:44 (244 KB/s) - ‘training_data.csv’ saved [54950/54950]\n",
            "\n",
            "--2021-09-30 16:55:44--  http://handsonml.control.lth.se/data/songs_to_classify.csv\n",
            "Resolving handsonml.control.lth.se (handsonml.control.lth.se)... 130.235.83.49, 2001:470:28:988:1911:2012:4200:0\n",
            "Connecting to handsonml.control.lth.se (handsonml.control.lth.se)|130.235.83.49|:80... connected.\n",
            "HTTP request sent, awaiting response... 200 OK\n",
            "Length: 14306 (14K) [text/csv]\n",
            "Saving to: ‘songs_to_classify.csv’\n",
            "\n",
            "songs_to_classify.c 100%[===================>]  13.97K  --.-KB/s    in 0.1s    \n",
            "\n",
            "2021-09-30 16:55:44 (127 KB/s) - ‘songs_to_classify.csv’ saved [14306/14306]\n",
            "\n"
          ]
        }
      ]
    },
    {
      "cell_type": "code",
      "metadata": {
        "colab": {
          "base_uri": "https://localhost:8080/"
        },
        "id": "fo3zdOW3E32T",
        "outputId": "03d00fe5-3e8a-4171-ce5a-9e85feb91df8"
      },
      "source": [
        "# Load data\n",
        "train = pd.read_csv(\"training_data.csv\")\n",
        "test = pd.read_csv(\"songs_to_classify.csv\")\n",
        "print(\"Training data shape: \",train.shape)\n",
        "print(\"Testing data shape: \", test.shape)\n",
        "print(\"Label data shape: \",train.label.shape)"
      ],
      "execution_count": 3,
      "outputs": [
        {
          "output_type": "stream",
          "name": "stdout",
          "text": [
            "Training data shape:  (750, 14)\n",
            "Testing data shape:  (200, 13)\n",
            "Label data shape:  (750,)\n"
          ]
        }
      ]
    },
    {
      "cell_type": "code",
      "metadata": {
        "colab": {
          "base_uri": "https://localhost:8080/",
          "height": 206
        },
        "id": "hJVzaMhVT58k",
        "outputId": "a6654675-6f7d-432f-995a-ef6a2bbce65a"
      },
      "source": [
        "test.sample(5)"
      ],
      "execution_count": null,
      "outputs": [
        {
          "output_type": "execute_result",
          "data": {
            "text/html": [
              "<div>\n",
              "<style scoped>\n",
              "    .dataframe tbody tr th:only-of-type {\n",
              "        vertical-align: middle;\n",
              "    }\n",
              "\n",
              "    .dataframe tbody tr th {\n",
              "        vertical-align: top;\n",
              "    }\n",
              "\n",
              "    .dataframe thead th {\n",
              "        text-align: right;\n",
              "    }\n",
              "</style>\n",
              "<table border=\"1\" class=\"dataframe\">\n",
              "  <thead>\n",
              "    <tr style=\"text-align: right;\">\n",
              "      <th></th>\n",
              "      <th>acousticness</th>\n",
              "      <th>danceability</th>\n",
              "      <th>duration</th>\n",
              "      <th>energy</th>\n",
              "      <th>instrumentalness</th>\n",
              "      <th>key</th>\n",
              "      <th>liveness</th>\n",
              "      <th>loudness</th>\n",
              "      <th>mode</th>\n",
              "      <th>speechiness</th>\n",
              "      <th>tempo</th>\n",
              "      <th>time_signature</th>\n",
              "      <th>valence</th>\n",
              "    </tr>\n",
              "  </thead>\n",
              "  <tbody>\n",
              "    <tr>\n",
              "      <th>61</th>\n",
              "      <td>0.47100</td>\n",
              "      <td>0.633</td>\n",
              "      <td>255213</td>\n",
              "      <td>0.434</td>\n",
              "      <td>0.000000</td>\n",
              "      <td>0</td>\n",
              "      <td>0.2330</td>\n",
              "      <td>-10.303</td>\n",
              "      <td>1</td>\n",
              "      <td>0.1520</td>\n",
              "      <td>84.035</td>\n",
              "      <td>4</td>\n",
              "      <td>0.418</td>\n",
              "    </tr>\n",
              "    <tr>\n",
              "      <th>9</th>\n",
              "      <td>0.11300</td>\n",
              "      <td>0.875</td>\n",
              "      <td>163687</td>\n",
              "      <td>0.369</td>\n",
              "      <td>0.000000</td>\n",
              "      <td>10</td>\n",
              "      <td>0.1050</td>\n",
              "      <td>-8.297</td>\n",
              "      <td>1</td>\n",
              "      <td>0.2150</td>\n",
              "      <td>115.014</td>\n",
              "      <td>4</td>\n",
              "      <td>0.453</td>\n",
              "    </tr>\n",
              "    <tr>\n",
              "      <th>59</th>\n",
              "      <td>0.36400</td>\n",
              "      <td>0.811</td>\n",
              "      <td>235897</td>\n",
              "      <td>0.734</td>\n",
              "      <td>0.000002</td>\n",
              "      <td>0</td>\n",
              "      <td>0.1210</td>\n",
              "      <td>-6.626</td>\n",
              "      <td>0</td>\n",
              "      <td>0.3340</td>\n",
              "      <td>150.060</td>\n",
              "      <td>4</td>\n",
              "      <td>0.566</td>\n",
              "    </tr>\n",
              "    <tr>\n",
              "      <th>29</th>\n",
              "      <td>0.16400</td>\n",
              "      <td>0.533</td>\n",
              "      <td>180918</td>\n",
              "      <td>0.889</td>\n",
              "      <td>0.001100</td>\n",
              "      <td>1</td>\n",
              "      <td>0.0890</td>\n",
              "      <td>-4.963</td>\n",
              "      <td>0</td>\n",
              "      <td>0.0951</td>\n",
              "      <td>106.950</td>\n",
              "      <td>4</td>\n",
              "      <td>0.701</td>\n",
              "    </tr>\n",
              "    <tr>\n",
              "      <th>11</th>\n",
              "      <td>0.00456</td>\n",
              "      <td>0.867</td>\n",
              "      <td>257360</td>\n",
              "      <td>0.517</td>\n",
              "      <td>0.000339</td>\n",
              "      <td>11</td>\n",
              "      <td>0.0864</td>\n",
              "      <td>-13.222</td>\n",
              "      <td>0</td>\n",
              "      <td>0.0875</td>\n",
              "      <td>133.148</td>\n",
              "      <td>4</td>\n",
              "      <td>0.866</td>\n",
              "    </tr>\n",
              "  </tbody>\n",
              "</table>\n",
              "</div>"
            ],
            "text/plain": [
              "    acousticness  danceability  duration  ...    tempo  time_signature  valence\n",
              "61       0.47100         0.633    255213  ...   84.035               4    0.418\n",
              "9        0.11300         0.875    163687  ...  115.014               4    0.453\n",
              "59       0.36400         0.811    235897  ...  150.060               4    0.566\n",
              "29       0.16400         0.533    180918  ...  106.950               4    0.701\n",
              "11       0.00456         0.867    257360  ...  133.148               4    0.866\n",
              "\n",
              "[5 rows x 13 columns]"
            ]
          },
          "metadata": {},
          "execution_count": 4
        }
      ]
    },
    {
      "cell_type": "code",
      "metadata": {
        "colab": {
          "base_uri": "https://localhost:8080/",
          "height": 206
        },
        "id": "pb_y-K5iE9bb",
        "outputId": "097f254f-07c9-4a24-a82a-6f5fd29c0c53"
      },
      "source": [
        "# Inspect data\n",
        "train.sample(5)"
      ],
      "execution_count": null,
      "outputs": [
        {
          "output_type": "execute_result",
          "data": {
            "text/html": [
              "<div>\n",
              "<style scoped>\n",
              "    .dataframe tbody tr th:only-of-type {\n",
              "        vertical-align: middle;\n",
              "    }\n",
              "\n",
              "    .dataframe tbody tr th {\n",
              "        vertical-align: top;\n",
              "    }\n",
              "\n",
              "    .dataframe thead th {\n",
              "        text-align: right;\n",
              "    }\n",
              "</style>\n",
              "<table border=\"1\" class=\"dataframe\">\n",
              "  <thead>\n",
              "    <tr style=\"text-align: right;\">\n",
              "      <th></th>\n",
              "      <th>acousticness</th>\n",
              "      <th>danceability</th>\n",
              "      <th>duration</th>\n",
              "      <th>energy</th>\n",
              "      <th>instrumentalness</th>\n",
              "      <th>key</th>\n",
              "      <th>liveness</th>\n",
              "      <th>loudness</th>\n",
              "      <th>mode</th>\n",
              "      <th>speechiness</th>\n",
              "      <th>tempo</th>\n",
              "      <th>time_signature</th>\n",
              "      <th>valence</th>\n",
              "      <th>label</th>\n",
              "    </tr>\n",
              "  </thead>\n",
              "  <tbody>\n",
              "    <tr>\n",
              "      <th>273</th>\n",
              "      <td>0.03250</td>\n",
              "      <td>0.544</td>\n",
              "      <td>238493</td>\n",
              "      <td>0.500</td>\n",
              "      <td>0.000004</td>\n",
              "      <td>11</td>\n",
              "      <td>0.1090</td>\n",
              "      <td>-8.253</td>\n",
              "      <td>1</td>\n",
              "      <td>0.0260</td>\n",
              "      <td>93.621</td>\n",
              "      <td>4</td>\n",
              "      <td>0.177</td>\n",
              "      <td>1</td>\n",
              "    </tr>\n",
              "    <tr>\n",
              "      <th>565</th>\n",
              "      <td>0.34700</td>\n",
              "      <td>0.616</td>\n",
              "      <td>294147</td>\n",
              "      <td>0.573</td>\n",
              "      <td>0.000001</td>\n",
              "      <td>0</td>\n",
              "      <td>0.1040</td>\n",
              "      <td>-7.133</td>\n",
              "      <td>1</td>\n",
              "      <td>0.0393</td>\n",
              "      <td>163.987</td>\n",
              "      <td>4</td>\n",
              "      <td>0.260</td>\n",
              "      <td>1</td>\n",
              "    </tr>\n",
              "    <tr>\n",
              "      <th>231</th>\n",
              "      <td>0.00113</td>\n",
              "      <td>0.838</td>\n",
              "      <td>215481</td>\n",
              "      <td>0.880</td>\n",
              "      <td>0.008090</td>\n",
              "      <td>2</td>\n",
              "      <td>0.1010</td>\n",
              "      <td>-4.941</td>\n",
              "      <td>1</td>\n",
              "      <td>0.0458</td>\n",
              "      <td>123.024</td>\n",
              "      <td>4</td>\n",
              "      <td>0.354</td>\n",
              "      <td>1</td>\n",
              "    </tr>\n",
              "    <tr>\n",
              "      <th>746</th>\n",
              "      <td>0.00197</td>\n",
              "      <td>0.487</td>\n",
              "      <td>213000</td>\n",
              "      <td>0.867</td>\n",
              "      <td>0.006020</td>\n",
              "      <td>10</td>\n",
              "      <td>0.0968</td>\n",
              "      <td>-3.293</td>\n",
              "      <td>0</td>\n",
              "      <td>0.0543</td>\n",
              "      <td>160.048</td>\n",
              "      <td>4</td>\n",
              "      <td>0.403</td>\n",
              "      <td>0</td>\n",
              "    </tr>\n",
              "    <tr>\n",
              "      <th>540</th>\n",
              "      <td>0.90800</td>\n",
              "      <td>0.606</td>\n",
              "      <td>180040</td>\n",
              "      <td>0.296</td>\n",
              "      <td>0.000000</td>\n",
              "      <td>4</td>\n",
              "      <td>0.2550</td>\n",
              "      <td>-8.356</td>\n",
              "      <td>1</td>\n",
              "      <td>0.0502</td>\n",
              "      <td>115.085</td>\n",
              "      <td>3</td>\n",
              "      <td>0.668</td>\n",
              "      <td>1</td>\n",
              "    </tr>\n",
              "  </tbody>\n",
              "</table>\n",
              "</div>"
            ],
            "text/plain": [
              "     acousticness  danceability  duration  ...  time_signature  valence  label\n",
              "273       0.03250         0.544    238493  ...               4    0.177      1\n",
              "565       0.34700         0.616    294147  ...               4    0.260      1\n",
              "231       0.00113         0.838    215481  ...               4    0.354      1\n",
              "746       0.00197         0.487    213000  ...               4    0.403      0\n",
              "540       0.90800         0.606    180040  ...               3    0.668      1\n",
              "\n",
              "[5 rows x 14 columns]"
            ]
          },
          "metadata": {},
          "execution_count": 5
        }
      ]
    },
    {
      "cell_type": "code",
      "metadata": {
        "colab": {
          "base_uri": "https://localhost:8080/",
          "height": 206
        },
        "id": "K6mObQVnLg0y",
        "outputId": "9ff0a652-8ae5-4143-850e-2bac0373009c"
      },
      "source": [
        "train.head()"
      ],
      "execution_count": null,
      "outputs": [
        {
          "output_type": "execute_result",
          "data": {
            "text/html": [
              "<div>\n",
              "<style scoped>\n",
              "    .dataframe tbody tr th:only-of-type {\n",
              "        vertical-align: middle;\n",
              "    }\n",
              "\n",
              "    .dataframe tbody tr th {\n",
              "        vertical-align: top;\n",
              "    }\n",
              "\n",
              "    .dataframe thead th {\n",
              "        text-align: right;\n",
              "    }\n",
              "</style>\n",
              "<table border=\"1\" class=\"dataframe\">\n",
              "  <thead>\n",
              "    <tr style=\"text-align: right;\">\n",
              "      <th></th>\n",
              "      <th>acousticness</th>\n",
              "      <th>danceability</th>\n",
              "      <th>duration</th>\n",
              "      <th>energy</th>\n",
              "      <th>instrumentalness</th>\n",
              "      <th>key</th>\n",
              "      <th>liveness</th>\n",
              "      <th>loudness</th>\n",
              "      <th>mode</th>\n",
              "      <th>speechiness</th>\n",
              "      <th>tempo</th>\n",
              "      <th>time_signature</th>\n",
              "      <th>valence</th>\n",
              "      <th>label</th>\n",
              "    </tr>\n",
              "  </thead>\n",
              "  <tbody>\n",
              "    <tr>\n",
              "      <th>0</th>\n",
              "      <td>0.713</td>\n",
              "      <td>0.514</td>\n",
              "      <td>100125</td>\n",
              "      <td>0.521</td>\n",
              "      <td>0.816000</td>\n",
              "      <td>8</td>\n",
              "      <td>0.1120</td>\n",
              "      <td>-14.835</td>\n",
              "      <td>0</td>\n",
              "      <td>0.0444</td>\n",
              "      <td>119.879</td>\n",
              "      <td>4</td>\n",
              "      <td>0.143</td>\n",
              "      <td>1</td>\n",
              "    </tr>\n",
              "    <tr>\n",
              "      <th>1</th>\n",
              "      <td>0.192</td>\n",
              "      <td>0.714</td>\n",
              "      <td>207019</td>\n",
              "      <td>0.614</td>\n",
              "      <td>0.000000</td>\n",
              "      <td>4</td>\n",
              "      <td>0.2630</td>\n",
              "      <td>-6.935</td>\n",
              "      <td>1</td>\n",
              "      <td>0.0319</td>\n",
              "      <td>123.969</td>\n",
              "      <td>4</td>\n",
              "      <td>0.582</td>\n",
              "      <td>1</td>\n",
              "    </tr>\n",
              "    <tr>\n",
              "      <th>2</th>\n",
              "      <td>0.333</td>\n",
              "      <td>0.630</td>\n",
              "      <td>216200</td>\n",
              "      <td>0.455</td>\n",
              "      <td>0.000004</td>\n",
              "      <td>5</td>\n",
              "      <td>0.1270</td>\n",
              "      <td>-9.290</td>\n",
              "      <td>1</td>\n",
              "      <td>0.0292</td>\n",
              "      <td>139.931</td>\n",
              "      <td>4</td>\n",
              "      <td>0.199</td>\n",
              "      <td>1</td>\n",
              "    </tr>\n",
              "    <tr>\n",
              "      <th>3</th>\n",
              "      <td>0.601</td>\n",
              "      <td>0.810</td>\n",
              "      <td>136413</td>\n",
              "      <td>0.221</td>\n",
              "      <td>0.210000</td>\n",
              "      <td>5</td>\n",
              "      <td>0.1840</td>\n",
              "      <td>-11.005</td>\n",
              "      <td>1</td>\n",
              "      <td>0.0429</td>\n",
              "      <td>109.960</td>\n",
              "      <td>4</td>\n",
              "      <td>0.798</td>\n",
              "      <td>1</td>\n",
              "    </tr>\n",
              "    <tr>\n",
              "      <th>4</th>\n",
              "      <td>0.883</td>\n",
              "      <td>0.465</td>\n",
              "      <td>181440</td>\n",
              "      <td>0.459</td>\n",
              "      <td>0.000173</td>\n",
              "      <td>6</td>\n",
              "      <td>0.0692</td>\n",
              "      <td>-8.137</td>\n",
              "      <td>0</td>\n",
              "      <td>0.0351</td>\n",
              "      <td>90.807</td>\n",
              "      <td>4</td>\n",
              "      <td>0.288</td>\n",
              "      <td>1</td>\n",
              "    </tr>\n",
              "  </tbody>\n",
              "</table>\n",
              "</div>"
            ],
            "text/plain": [
              "   acousticness  danceability  duration  ...  time_signature  valence  label\n",
              "0         0.713         0.514    100125  ...               4    0.143      1\n",
              "1         0.192         0.714    207019  ...               4    0.582      1\n",
              "2         0.333         0.630    216200  ...               4    0.199      1\n",
              "3         0.601         0.810    136413  ...               4    0.798      1\n",
              "4         0.883         0.465    181440  ...               4    0.288      1\n",
              "\n",
              "[5 rows x 14 columns]"
            ]
          },
          "metadata": {},
          "execution_count": 6
        }
      ]
    },
    {
      "cell_type": "code",
      "metadata": {
        "colab": {
          "base_uri": "https://localhost:8080/"
        },
        "id": "TAq4dcUULjoN",
        "outputId": "50cff593-46f5-4c84-a36f-2e24813ed284"
      },
      "source": [
        "train.info()"
      ],
      "execution_count": null,
      "outputs": [
        {
          "output_type": "stream",
          "name": "stdout",
          "text": [
            "<class 'pandas.core.frame.DataFrame'>\n",
            "RangeIndex: 750 entries, 0 to 749\n",
            "Data columns (total 14 columns):\n",
            " #   Column            Non-Null Count  Dtype  \n",
            "---  ------            --------------  -----  \n",
            " 0   acousticness      750 non-null    float64\n",
            " 1   danceability      750 non-null    float64\n",
            " 2   duration          750 non-null    int64  \n",
            " 3   energy            750 non-null    float64\n",
            " 4   instrumentalness  750 non-null    float64\n",
            " 5   key               750 non-null    int64  \n",
            " 6   liveness          750 non-null    float64\n",
            " 7   loudness          750 non-null    float64\n",
            " 8   mode              750 non-null    int64  \n",
            " 9   speechiness       750 non-null    float64\n",
            " 10  tempo             750 non-null    float64\n",
            " 11  time_signature    750 non-null    int64  \n",
            " 12  valence           750 non-null    float64\n",
            " 13  label             750 non-null    int64  \n",
            "dtypes: float64(9), int64(5)\n",
            "memory usage: 82.2 KB\n"
          ]
        }
      ]
    },
    {
      "cell_type": "code",
      "metadata": {
        "colab": {
          "base_uri": "https://localhost:8080/",
          "height": 1000
        },
        "id": "Ux_sqWOvhKc3",
        "outputId": "925077cb-38e5-4ec4-f79e-31d1a60622e5"
      },
      "source": [
        "train.hist(figsize=(12, 12))"
      ],
      "execution_count": null,
      "outputs": [
        {
          "output_type": "execute_result",
          "data": {
            "text/plain": [
              "array([[<matplotlib.axes._subplots.AxesSubplot object at 0x7fcc46278590>,\n",
              "        <matplotlib.axes._subplots.AxesSubplot object at 0x7fcc4624ffd0>,\n",
              "        <matplotlib.axes._subplots.AxesSubplot object at 0x7fcc462126d0>,\n",
              "        <matplotlib.axes._subplots.AxesSubplot object at 0x7fcc461c5d50>],\n",
              "       [<matplotlib.axes._subplots.AxesSubplot object at 0x7fcc4618b410>,\n",
              "        <matplotlib.axes._subplots.AxesSubplot object at 0x7fcc46140a90>,\n",
              "        <matplotlib.axes._subplots.AxesSubplot object at 0x7fcc461001d0>,\n",
              "        <matplotlib.axes._subplots.AxesSubplot object at 0x7fcc460b7790>],\n",
              "       [<matplotlib.axes._subplots.AxesSubplot object at 0x7fcc460b77d0>,\n",
              "        <matplotlib.axes._subplots.AxesSubplot object at 0x7fcc4606bf50>,\n",
              "        <matplotlib.axes._subplots.AxesSubplot object at 0x7fcc45fe2b90>,\n",
              "        <matplotlib.axes._subplots.AxesSubplot object at 0x7fcc45fa6250>],\n",
              "       [<matplotlib.axes._subplots.AxesSubplot object at 0x7fcc45fdc8d0>,\n",
              "        <matplotlib.axes._subplots.AxesSubplot object at 0x7fcc45f91f50>,\n",
              "        <matplotlib.axes._subplots.AxesSubplot object at 0x7fcc45f53610>,\n",
              "        <matplotlib.axes._subplots.AxesSubplot object at 0x7fcc45f06c90>]],\n",
              "      dtype=object)"
            ]
          },
          "metadata": {},
          "execution_count": 8
        },
        {
          "output_type": "display_data",
          "data": {
            "image/png": "[encoded data removed]",
            "text/plain": [
              "<Figure size 864x864 with 16 Axes>"
            ]
          },
          "metadata": {
            "needs_background": "light"
          }
        }
      ]
    },
    {
      "cell_type": "code",
      "metadata": {
        "colab": {
          "base_uri": "https://localhost:8080/",
          "height": 424
        },
        "id": "vn8Su4Pihgop",
        "outputId": "ef255806-fd21-46a2-d09d-dbb8bc8d88d6"
      },
      "source": [
        "#locate the liked songs \n",
        "train.loc[:,'label']==1\n",
        "#locate the disliked songs \n",
        "train[train['label']==0]"
      ],
      "execution_count": null,
      "outputs": [
        {
          "output_type": "execute_result",
          "data": {
            "text/html": [
              "<div>\n",
              "<style scoped>\n",
              "    .dataframe tbody tr th:only-of-type {\n",
              "        vertical-align: middle;\n",
              "    }\n",
              "\n",
              "    .dataframe tbody tr th {\n",
              "        vertical-align: top;\n",
              "    }\n",
              "\n",
              "    .dataframe thead th {\n",
              "        text-align: right;\n",
              "    }\n",
              "</style>\n",
              "<table border=\"1\" class=\"dataframe\">\n",
              "  <thead>\n",
              "    <tr style=\"text-align: right;\">\n",
              "      <th></th>\n",
              "      <th>acousticness</th>\n",
              "      <th>danceability</th>\n",
              "      <th>duration</th>\n",
              "      <th>energy</th>\n",
              "      <th>instrumentalness</th>\n",
              "      <th>key</th>\n",
              "      <th>liveness</th>\n",
              "      <th>loudness</th>\n",
              "      <th>mode</th>\n",
              "      <th>speechiness</th>\n",
              "      <th>tempo</th>\n",
              "      <th>time_signature</th>\n",
              "      <th>valence</th>\n",
              "      <th>label</th>\n",
              "    </tr>\n",
              "  </thead>\n",
              "  <tbody>\n",
              "    <tr>\n",
              "      <th>6</th>\n",
              "      <td>0.597000</td>\n",
              "      <td>0.507</td>\n",
              "      <td>183573</td>\n",
              "      <td>0.795</td>\n",
              "      <td>0.000000</td>\n",
              "      <td>9</td>\n",
              "      <td>0.2960</td>\n",
              "      <td>-6.966</td>\n",
              "      <td>1</td>\n",
              "      <td>0.0607</td>\n",
              "      <td>165.540</td>\n",
              "      <td>4</td>\n",
              "      <td>0.900</td>\n",
              "      <td>0</td>\n",
              "    </tr>\n",
              "    <tr>\n",
              "      <th>16</th>\n",
              "      <td>0.003290</td>\n",
              "      <td>0.688</td>\n",
              "      <td>279829</td>\n",
              "      <td>0.819</td>\n",
              "      <td>0.000018</td>\n",
              "      <td>7</td>\n",
              "      <td>0.0943</td>\n",
              "      <td>-6.935</td>\n",
              "      <td>1</td>\n",
              "      <td>0.0558</td>\n",
              "      <td>146.003</td>\n",
              "      <td>4</td>\n",
              "      <td>0.457</td>\n",
              "      <td>0</td>\n",
              "    </tr>\n",
              "    <tr>\n",
              "      <th>19</th>\n",
              "      <td>0.017800</td>\n",
              "      <td>0.847</td>\n",
              "      <td>226547</td>\n",
              "      <td>0.609</td>\n",
              "      <td>0.000000</td>\n",
              "      <td>4</td>\n",
              "      <td>0.0707</td>\n",
              "      <td>-6.335</td>\n",
              "      <td>1</td>\n",
              "      <td>0.4160</td>\n",
              "      <td>128.006</td>\n",
              "      <td>4</td>\n",
              "      <td>0.625</td>\n",
              "      <td>0</td>\n",
              "    </tr>\n",
              "    <tr>\n",
              "      <th>21</th>\n",
              "      <td>0.135000</td>\n",
              "      <td>0.651</td>\n",
              "      <td>189531</td>\n",
              "      <td>0.876</td>\n",
              "      <td>0.000000</td>\n",
              "      <td>8</td>\n",
              "      <td>0.2240</td>\n",
              "      <td>-7.033</td>\n",
              "      <td>1</td>\n",
              "      <td>0.3570</td>\n",
              "      <td>76.166</td>\n",
              "      <td>4</td>\n",
              "      <td>0.736</td>\n",
              "      <td>0</td>\n",
              "    </tr>\n",
              "    <tr>\n",
              "      <th>23</th>\n",
              "      <td>0.023500</td>\n",
              "      <td>0.464</td>\n",
              "      <td>198237</td>\n",
              "      <td>0.771</td>\n",
              "      <td>0.000000</td>\n",
              "      <td>8</td>\n",
              "      <td>0.0630</td>\n",
              "      <td>-4.503</td>\n",
              "      <td>1</td>\n",
              "      <td>0.3360</td>\n",
              "      <td>158.777</td>\n",
              "      <td>4</td>\n",
              "      <td>0.690</td>\n",
              "      <td>0</td>\n",
              "    </tr>\n",
              "    <tr>\n",
              "      <th>...</th>\n",
              "      <td>...</td>\n",
              "      <td>...</td>\n",
              "      <td>...</td>\n",
              "      <td>...</td>\n",
              "      <td>...</td>\n",
              "      <td>...</td>\n",
              "      <td>...</td>\n",
              "      <td>...</td>\n",
              "      <td>...</td>\n",
              "      <td>...</td>\n",
              "      <td>...</td>\n",
              "      <td>...</td>\n",
              "      <td>...</td>\n",
              "      <td>...</td>\n",
              "    </tr>\n",
              "    <tr>\n",
              "      <th>736</th>\n",
              "      <td>0.001160</td>\n",
              "      <td>0.601</td>\n",
              "      <td>148125</td>\n",
              "      <td>0.990</td>\n",
              "      <td>0.520000</td>\n",
              "      <td>6</td>\n",
              "      <td>0.1240</td>\n",
              "      <td>-3.016</td>\n",
              "      <td>1</td>\n",
              "      <td>0.3370</td>\n",
              "      <td>127.958</td>\n",
              "      <td>4</td>\n",
              "      <td>0.192</td>\n",
              "      <td>0</td>\n",
              "    </tr>\n",
              "    <tr>\n",
              "      <th>739</th>\n",
              "      <td>0.102000</td>\n",
              "      <td>0.803</td>\n",
              "      <td>216575</td>\n",
              "      <td>0.631</td>\n",
              "      <td>0.000007</td>\n",
              "      <td>8</td>\n",
              "      <td>0.0858</td>\n",
              "      <td>-4.213</td>\n",
              "      <td>1</td>\n",
              "      <td>0.0444</td>\n",
              "      <td>104.999</td>\n",
              "      <td>4</td>\n",
              "      <td>0.659</td>\n",
              "      <td>0</td>\n",
              "    </tr>\n",
              "    <tr>\n",
              "      <th>740</th>\n",
              "      <td>0.202000</td>\n",
              "      <td>0.755</td>\n",
              "      <td>216450</td>\n",
              "      <td>0.577</td>\n",
              "      <td>0.000000</td>\n",
              "      <td>3</td>\n",
              "      <td>0.2340</td>\n",
              "      <td>-7.549</td>\n",
              "      <td>1</td>\n",
              "      <td>0.1570</td>\n",
              "      <td>100.034</td>\n",
              "      <td>4</td>\n",
              "      <td>0.451</td>\n",
              "      <td>0</td>\n",
              "    </tr>\n",
              "    <tr>\n",
              "      <th>745</th>\n",
              "      <td>0.000175</td>\n",
              "      <td>0.374</td>\n",
              "      <td>333827</td>\n",
              "      <td>0.943</td>\n",
              "      <td>0.000156</td>\n",
              "      <td>6</td>\n",
              "      <td>0.1250</td>\n",
              "      <td>-4.108</td>\n",
              "      <td>0</td>\n",
              "      <td>0.0556</td>\n",
              "      <td>112.084</td>\n",
              "      <td>4</td>\n",
              "      <td>0.338</td>\n",
              "      <td>0</td>\n",
              "    </tr>\n",
              "    <tr>\n",
              "      <th>746</th>\n",
              "      <td>0.001970</td>\n",
              "      <td>0.487</td>\n",
              "      <td>213000</td>\n",
              "      <td>0.867</td>\n",
              "      <td>0.006020</td>\n",
              "      <td>10</td>\n",
              "      <td>0.0968</td>\n",
              "      <td>-3.293</td>\n",
              "      <td>0</td>\n",
              "      <td>0.0543</td>\n",
              "      <td>160.048</td>\n",
              "      <td>4</td>\n",
              "      <td>0.403</td>\n",
              "      <td>0</td>\n",
              "    </tr>\n",
              "  </tbody>\n",
              "</table>\n",
              "<p>298 rows × 14 columns</p>\n",
              "</div>"
            ],
            "text/plain": [
              "     acousticness  danceability  duration  ...  time_signature  valence  label\n",
              "6        0.597000         0.507    183573  ...               4    0.900      0\n",
              "16       0.003290         0.688    279829  ...               4    0.457      0\n",
              "19       0.017800         0.847    226547  ...               4    0.625      0\n",
              "21       0.135000         0.651    189531  ...               4    0.736      0\n",
              "23       0.023500         0.464    198237  ...               4    0.690      0\n",
              "..            ...           ...       ...  ...             ...      ...    ...\n",
              "736      0.001160         0.601    148125  ...               4    0.192      0\n",
              "739      0.102000         0.803    216575  ...               4    0.659      0\n",
              "740      0.202000         0.755    216450  ...               4    0.451      0\n",
              "745      0.000175         0.374    333827  ...               4    0.338      0\n",
              "746      0.001970         0.487    213000  ...               4    0.403      0\n",
              "\n",
              "[298 rows x 14 columns]"
            ]
          },
          "metadata": {},
          "execution_count": 9
        }
      ]
    },
    {
      "cell_type": "code",
      "metadata": {
        "colab": {
          "base_uri": "https://localhost:8080/",
          "height": 459
        },
        "id": "1A0ginCWiw1-",
        "outputId": "4f31f005-3c42-48a8-bf87-bb7b4998f234"
      },
      "source": [
        "#see how the data looks for liked songs\n",
        "ind0 = train.loc[:,'label']==0\n",
        "ind1 = train.loc[:,'label']==1\n",
        "#train.loc[ind0,'danceability']\n",
        "names=['acousticness','danceability','duration','energy','instrumentalness','key','liveness','loudness','mode','speechiness','tempo','time_signature','valence','label']\n",
        "\n",
        "plt.hist((train.loc[ind0,'acousticness'],train.loc[ind1,'acousticness']), stacked=True, density = True)\n"
      ],
      "execution_count": null,
      "outputs": [
        {
          "output_type": "stream",
          "name": "stderr",
          "text": [
            "/usr/local/lib/python3.7/dist-packages/numpy/core/_asarray.py:83: VisibleDeprecationWarning: Creating an ndarray from ragged nested sequences (which is a list-or-tuple of lists-or-tuples-or ndarrays with different lengths or shapes) is deprecated. If you meant to do this, you must specify 'dtype=object' when creating the ndarray\n",
            "  return array(a, dtype, copy=False, order=order)\n"
          ]
        },
        {
          "output_type": "execute_result",
          "data": {
            "text/plain": [
              "(array([[2.41448976, 0.59020861, 0.22803514, 0.17437982, 0.18779365,\n",
              "         0.13413832, 0.10731066, 0.0402415 , 0.06706916, 0.05365533],\n",
              "        [3.64856231, 1.07310656, 0.69751927, 0.60362244, 0.60362244,\n",
              "         0.54996711, 0.46948412, 0.6304501 , 0.84507142, 0.93896824]]),\n",
              " array([1.17000000e-06, 9.94010530e-02, 1.98800936e-01, 2.98200819e-01,\n",
              "        3.97600702e-01, 4.97000585e-01, 5.96400468e-01, 6.95800351e-01,\n",
              "        7.95200234e-01, 8.94600117e-01, 9.94000000e-01]),\n",
              " <a list of 2 Lists of Patches objects>)"
            ]
          },
          "metadata": {},
          "execution_count": 10
        },
        {
          "output_type": "display_data",
          "data": {
            "image/png": "[encoded data removed]",
            "text/plain": [
              "<Figure size 432x288 with 1 Axes>"
            ]
          },
          "metadata": {
            "needs_background": "light"
          }
        }
      ]
    },
    {
      "cell_type": "code",
      "metadata": {
        "colab": {
          "base_uri": "https://localhost:8080/",
          "height": 441
        },
        "id": "BuMkDU8eq5O_",
        "outputId": "2e7e4681-4215-4b4e-f5ae-29b69429c34f"
      },
      "source": [
        "plt.hist((train.loc[ind0,'danceability'],train.loc[ind1,'danceability']), stacked=True, density = True)"
      ],
      "execution_count": null,
      "outputs": [
        {
          "output_type": "stream",
          "name": "stderr",
          "text": [
            "/usr/local/lib/python3.7/dist-packages/numpy/core/_asarray.py:83: VisibleDeprecationWarning: Creating an ndarray from ragged nested sequences (which is a list-or-tuple of lists-or-tuples-or ndarrays with different lengths or shapes) is deprecated. If you meant to do this, you must specify 'dtype=object' when creating the ndarray\n",
            "  return array(a, dtype, copy=False, order=order)\n"
          ]
        },
        {
          "output_type": "execute_result",
          "data": {
            "text/plain": [
              "(array([[0.06067501, 0.0303375 , 0.06067501, 0.22753129, 0.3488813 ,\n",
              "         0.81911263, 1.16799393, 0.9556314 , 0.68259386, 0.16685628],\n",
              "        [0.22753129, 0.2882063 , 0.71293136, 1.19833144, 1.69890027,\n",
              "         2.19946909, 2.35115662, 1.50170648, 0.94046265, 0.25786879]]),\n",
              " array([0.107 , 0.1949, 0.2828, 0.3707, 0.4586, 0.5465, 0.6344, 0.7223,\n",
              "        0.8102, 0.8981, 0.986 ]),\n",
              " <a list of 2 Lists of Patches objects>)"
            ]
          },
          "metadata": {},
          "execution_count": 11
        },
        {
          "output_type": "display_data",
          "data": {
            "image/png": "[encoded data removed]",
            "text/plain": [
              "<Figure size 432x288 with 1 Axes>"
            ]
          },
          "metadata": {
            "needs_background": "light"
          }
        }
      ]
    },
    {
      "cell_type": "code",
      "metadata": {
        "colab": {
          "base_uri": "https://localhost:8080/",
          "height": 487
        },
        "id": "El63-wttrA5s",
        "outputId": "686b9332-966a-45ff-845d-7baf0c139d32"
      },
      "source": [
        "plt.hist((train.loc[ind0,'duration'],train.loc[ind1,'duration']), stacked=True, density = True)"
      ],
      "execution_count": null,
      "outputs": [
        {
          "output_type": "stream",
          "name": "stderr",
          "text": [
            "/usr/local/lib/python3.7/dist-packages/numpy/core/_asarray.py:83: VisibleDeprecationWarning: Creating an ndarray from ragged nested sequences (which is a list-or-tuple of lists-or-tuples-or ndarrays with different lengths or shapes) is deprecated. If you meant to do this, you must specify 'dtype=object' when creating the ndarray\n",
            "  return array(a, dtype, copy=False, order=order)\n"
          ]
        },
        {
          "output_type": "execute_result",
          "data": {
            "text/plain": [
              "(array([[1.87055743e-07, 5.19599285e-07, 3.53327514e-06, 1.66271771e-06,\n",
              "         2.28623685e-07, 4.15679428e-08, 0.00000000e+00, 0.00000000e+00,\n",
              "         2.07839714e-08, 0.00000000e+00],\n",
              "        [3.53327514e-07, 1.55879786e-06, 7.54458162e-06, 4.53090577e-06,\n",
              "         1.20547034e-06, 2.28623685e-07, 2.07839714e-08, 6.23519142e-08,\n",
              "         4.15679428e-08, 4.15679428e-08]]),\n",
              " array([ 33840.,  97992., 162144., 226296., 290448., 354600., 418752.,\n",
              "        482904., 547056., 611208., 675360.]),\n",
              " <a list of 2 Lists of Patches objects>)"
            ]
          },
          "metadata": {},
          "execution_count": 12
        },
        {
          "output_type": "display_data",
          "data": {
            "image/png": "[encoded data removed]",
            "text/plain": [
              "<Figure size 432x288 with 1 Axes>"
            ]
          },
          "metadata": {
            "needs_background": "light"
          }
        }
      ]
    },
    {
      "cell_type": "code",
      "metadata": {
        "colab": {
          "base_uri": "https://localhost:8080/",
          "height": 441
        },
        "id": "ogKFr6DirB39",
        "outputId": "933aa0d7-6b93-4e33-9094-b7c20189e70e"
      },
      "source": [
        "plt.hist((train.loc[ind0,'energy'],train.loc[ind1,'energy']), stacked=True, density = True)"
      ],
      "execution_count": null,
      "outputs": [
        {
          "output_type": "stream",
          "name": "stderr",
          "text": [
            "/usr/local/lib/python3.7/dist-packages/numpy/core/_asarray.py:83: VisibleDeprecationWarning: Creating an ndarray from ragged nested sequences (which is a list-or-tuple of lists-or-tuples-or ndarrays with different lengths or shapes) is deprecated. If you meant to do this, you must specify 'dtype=object' when creating the ndarray\n",
            "  return array(a, dtype, copy=False, order=order)\n"
          ]
        },
        {
          "output_type": "execute_result",
          "data": {
            "text/plain": [
              "(array([[0.01352608, 0.0676304 , 0.09468256, 0.10820864, 0.18936512,\n",
              "         0.37873024, 0.5410432 , 0.78451264, 0.9468256 , 0.90624736],\n",
              "        [0.44636064, 0.5410432 , 0.70335616, 0.70335616, 1.10913856,\n",
              "         1.17676896, 1.352608  , 1.47434272, 1.51492096, 1.12266464]]),\n",
              " array([0.00925 , 0.107825, 0.2064  , 0.304975, 0.40355 , 0.502125,\n",
              "        0.6007  , 0.699275, 0.79785 , 0.896425, 0.995   ]),\n",
              " <a list of 2 Lists of Patches objects>)"
            ]
          },
          "metadata": {},
          "execution_count": 13
        },
        {
          "output_type": "display_data",
          "data": {
            "image/png": "[encoded data removed]",
            "text/plain": [
              "<Figure size 432x288 with 1 Axes>"
            ]
          },
          "metadata": {
            "needs_background": "light"
          }
        }
      ]
    },
    {
      "cell_type": "code",
      "metadata": {
        "colab": {
          "base_uri": "https://localhost:8080/",
          "height": 441
        },
        "id": "O9s_zIecrC1u",
        "outputId": "0dfba0be-15eb-4069-84b2-e910ce9836ee"
      },
      "source": [
        "plt.hist((train.loc[ind0,'instrumentalness'],train.loc[ind1,'instrumentalness']), stacked=True, density = True)"
      ],
      "execution_count": null,
      "outputs": [
        {
          "output_type": "stream",
          "name": "stderr",
          "text": [
            "/usr/local/lib/python3.7/dist-packages/numpy/core/_asarray.py:83: VisibleDeprecationWarning: Creating an ndarray from ragged nested sequences (which is a list-or-tuple of lists-or-tuples-or ndarrays with different lengths or shapes) is deprecated. If you meant to do this, you must specify 'dtype=object' when creating the ndarray\n",
            "  return array(a, dtype, copy=False, order=order)\n"
          ]
        },
        {
          "output_type": "execute_result",
          "data": {
            "text/plain": [
              "(array([[3.73664254, 0.0551534 , 0.04136505, 0.        , 0.01378835,\n",
              "         0.0275767 , 0.04136505, 0.0275767 , 0.11030679, 0.0551534 ],\n",
              "        [8.83833161, 0.13788349, 0.15167184, 0.0275767 , 0.0551534 ,\n",
              "         0.06894174, 0.15167184, 0.08273009, 0.28955533, 0.5377456 ]]),\n",
              " array([0.    , 0.0967, 0.1934, 0.2901, 0.3868, 0.4835, 0.5802, 0.6769,\n",
              "        0.7736, 0.8703, 0.967 ]),\n",
              " <a list of 2 Lists of Patches objects>)"
            ]
          },
          "metadata": {},
          "execution_count": 14
        },
        {
          "output_type": "display_data",
          "data": {
            "image/png": "[encoded data removed]",
            "text/plain": [
              "<Figure size 432x288 with 1 Axes>"
            ]
          },
          "metadata": {
            "needs_background": "light"
          }
        }
      ]
    },
    {
      "cell_type": "code",
      "metadata": {
        "colab": {
          "base_uri": "https://localhost:8080/",
          "height": 427
        },
        "id": "locensVbrDqs",
        "outputId": "49f71c9a-ce9c-40a1-f284-0510e0c672bf"
      },
      "source": [
        "plt.hist((train.loc[ind0,'key'],train.loc[ind1,'key']), stacked=True, density = True)"
      ],
      "execution_count": null,
      "outputs": [
        {
          "output_type": "stream",
          "name": "stderr",
          "text": [
            "/usr/local/lib/python3.7/dist-packages/numpy/core/_asarray.py:83: VisibleDeprecationWarning: Creating an ndarray from ragged nested sequences (which is a list-or-tuple of lists-or-tuples-or ndarrays with different lengths or shapes) is deprecated. If you meant to do this, you must specify 'dtype=object' when creating the ndarray\n",
            "  return array(a, dtype, copy=False, order=order)\n"
          ]
        },
        {
          "output_type": "execute_result",
          "data": {
            "text/plain": [
              "(array([[0.09575758, 0.03393939, 0.00606061, 0.0169697 , 0.03393939,\n",
              "         0.02545455, 0.03272727, 0.03636364, 0.02545455, 0.05454545],\n",
              "        [0.24      , 0.11151515, 0.02060606, 0.05818182, 0.08363636,\n",
              "         0.05333333, 0.07636364, 0.06181818, 0.08969697, 0.11393939]]),\n",
              " array([ 0. ,  1.1,  2.2,  3.3,  4.4,  5.5,  6.6,  7.7,  8.8,  9.9, 11. ]),\n",
              " <a list of 2 Lists of Patches objects>)"
            ]
          },
          "metadata": {},
          "execution_count": 15
        },
        {
          "output_type": "display_data",
          "data": {
            "image/png": "[encoded data removed]",
            "text/plain": [
              "<Figure size 432x288 with 1 Axes>"
            ]
          },
          "metadata": {
            "needs_background": "light"
          }
        }
      ]
    },
    {
      "cell_type": "code",
      "metadata": {
        "colab": {
          "base_uri": "https://localhost:8080/",
          "height": 441
        },
        "id": "6YZs2lYTrEiW",
        "outputId": "38fc358b-b9cb-4d75-d295-c91c7bd37f18"
      },
      "source": [
        "plt.hist((train.loc[ind0,'liveness'],train.loc[ind1,'liveness']), stacked=True, density = True)"
      ],
      "execution_count": null,
      "outputs": [
        {
          "output_type": "stream",
          "name": "stderr",
          "text": [
            "/usr/local/lib/python3.7/dist-packages/numpy/core/_asarray.py:83: VisibleDeprecationWarning: Creating an ndarray from ragged nested sequences (which is a list-or-tuple of lists-or-tuples-or ndarrays with different lengths or shapes) is deprecated. If you meant to do this, you must specify 'dtype=object' when creating the ndarray\n",
            "  return array(a, dtype, copy=False, order=order)\n"
          ]
        },
        {
          "output_type": "execute_result",
          "data": {
            "text/plain": [
              "(array([[1.63350785, 0.86561955, 0.53054101, 0.54450262, 0.22338569,\n",
              "         0.12565445, 0.06980803, 0.06980803, 0.09773124, 0.        ],\n",
              "        [4.69109948, 2.54101222, 1.2425829 , 0.97731239, 0.26527051,\n",
              "         0.19546248, 0.18150087, 0.12565445, 0.13961606, 0.11169284]]),\n",
              " array([0.024 , 0.1195, 0.215 , 0.3105, 0.406 , 0.5015, 0.597 , 0.6925,\n",
              "        0.788 , 0.8835, 0.979 ]),\n",
              " <a list of 2 Lists of Patches objects>)"
            ]
          },
          "metadata": {},
          "execution_count": 16
        },
        {
          "output_type": "display_data",
          "data": {
            "image/png": "[encoded data removed]",
            "text/plain": [
              "<Figure size 432x288 with 1 Axes>"
            ]
          },
          "metadata": {
            "needs_background": "light"
          }
        }
      ]
    },
    {
      "cell_type": "markdown",
      "metadata": {
        "id": "j9QcxYytwRN4"
      },
      "source": [
        ""
      ]
    },
    {
      "cell_type": "code",
      "metadata": {
        "colab": {
          "base_uri": "https://localhost:8080/",
          "height": 441
        },
        "id": "IRY1SW-IwR9y",
        "outputId": "cb707a86-ec35-4838-ed95-4f5deacb198f"
      },
      "source": [
        "plt.hist((train.loc[ind0,'loudness'],train.loc[ind1,'loudness']), stacked=True, density = True)"
      ],
      "execution_count": null,
      "outputs": [
        {
          "output_type": "stream",
          "name": "stderr",
          "text": [
            "/usr/local/lib/python3.7/dist-packages/numpy/core/_asarray.py:83: VisibleDeprecationWarning: Creating an ndarray from ragged nested sequences (which is a list-or-tuple of lists-or-tuples-or ndarrays with different lengths or shapes) is deprecated. If you meant to do this, you must specify 'dtype=object' when creating the ndarray\n",
            "  return array(a, dtype, copy=False, order=order)\n"
          ]
        },
        {
          "output_type": "execute_result",
          "data": {
            "text/plain": [
              "(array([[0.        , 0.        , 0.        , 0.        , 0.00183478,\n",
              "         0.00412825, 0.0087152 , 0.03302601, 0.06696941, 0.02201734],\n",
              "        [0.00412825, 0.00321086, 0.00779781, 0.00688042, 0.01100867,\n",
              "         0.02293473, 0.0504564 , 0.10458236, 0.10825192, 0.02476951]]),\n",
              " array([-29.601 , -26.6942, -23.7874, -20.8806, -17.9738, -15.067 ,\n",
              "        -12.1602,  -9.2534,  -6.3466,  -3.4398,  -0.533 ]),\n",
              " <a list of 2 Lists of Patches objects>)"
            ]
          },
          "metadata": {},
          "execution_count": 17
        },
        {
          "output_type": "display_data",
          "data": {
            "image/png": "[encoded data removed]",
            "text/plain": [
              "<Figure size 432x288 with 1 Axes>"
            ]
          },
          "metadata": {
            "needs_background": "light"
          }
        }
      ]
    },
    {
      "cell_type": "code",
      "metadata": {
        "colab": {
          "base_uri": "https://localhost:8080/",
          "height": 424
        },
        "id": "caQMIf_owS17",
        "outputId": "d3efaf0d-6f0d-4311-fac0-00cc6d0318e6"
      },
      "source": [
        "plt.hist((train.loc[ind0,'mode'],train.loc[ind1,'mode']), stacked=True, density = True)"
      ],
      "execution_count": null,
      "outputs": [
        {
          "output_type": "stream",
          "name": "stderr",
          "text": [
            "/usr/local/lib/python3.7/dist-packages/numpy/core/_asarray.py:83: VisibleDeprecationWarning: Creating an ndarray from ragged nested sequences (which is a list-or-tuple of lists-or-tuples-or ndarrays with different lengths or shapes) is deprecated. If you meant to do this, you must specify 'dtype=object' when creating the ndarray\n",
            "  return array(a, dtype, copy=False, order=order)\n"
          ]
        },
        {
          "output_type": "execute_result",
          "data": {
            "text/plain": [
              "(array([[1.2       , 0.        , 0.        , 0.        , 0.        ,\n",
              "         0.        , 0.        , 0.        , 0.        , 2.77333333],\n",
              "        [2.58666667, 0.        , 0.        , 0.        , 0.        ,\n",
              "         0.        , 0.        , 0.        , 0.        , 7.41333333]]),\n",
              " array([0. , 0.1, 0.2, 0.3, 0.4, 0.5, 0.6, 0.7, 0.8, 0.9, 1. ]),\n",
              " <a list of 2 Lists of Patches objects>)"
            ]
          },
          "metadata": {},
          "execution_count": 18
        },
        {
          "output_type": "display_data",
          "data": {
            "image/png": "[encoded data removed]",
            "text/plain": [
              "<Figure size 432x288 with 1 Axes>"
            ]
          },
          "metadata": {
            "needs_background": "light"
          }
        }
      ]
    },
    {
      "cell_type": "code",
      "metadata": {
        "colab": {
          "base_uri": "https://localhost:8080/",
          "height": 441
        },
        "id": "kUrYnfOvwzzr",
        "outputId": "da136571-cd10-4d52-e411-1aa6d0823bd4"
      },
      "source": [
        "plt.hist((train.loc[ind0,'speechiness'],train.loc[ind1,'speechiness']), stacked=True, density = True)"
      ],
      "execution_count": null,
      "outputs": [
        {
          "output_type": "stream",
          "name": "stderr",
          "text": [
            "/usr/local/lib/python3.7/dist-packages/numpy/core/_asarray.py:83: VisibleDeprecationWarning: Creating an ndarray from ragged nested sequences (which is a list-or-tuple of lists-or-tuples-or ndarrays with different lengths or shapes) is deprecated. If you meant to do this, you must specify 'dtype=object' when creating the ndarray\n",
            "  return array(a, dtype, copy=False, order=order)\n"
          ]
        },
        {
          "output_type": "execute_result",
          "data": {
            "text/plain": [
              "(array([[ 2.52293578,  0.80275229,  0.78363914,  0.72629969,  0.4969419 ,\n",
              "          0.2293578 ,  0.0764526 ,  0.0382263 ,  0.        ,  0.01911315],\n",
              "        [10.16819572,  1.47171254,  0.87920489,  0.80275229,  0.55428135,\n",
              "          0.3058104 ,  0.09556575,  0.0382263 ,  0.        ,  0.01911315]]),\n",
              " array([0.0234 , 0.09316, 0.16292, 0.23268, 0.30244, 0.3722 , 0.44196,\n",
              "        0.51172, 0.58148, 0.65124, 0.721  ]),\n",
              " <a list of 2 Lists of Patches objects>)"
            ]
          },
          "metadata": {},
          "execution_count": 19
        },
        {
          "output_type": "display_data",
          "data": {
            "image/png": "[encoded data removed]",
            "text/plain": [
              "<Figure size 432x288 with 1 Axes>"
            ]
          },
          "metadata": {
            "needs_background": "light"
          }
        }
      ]
    },
    {
      "cell_type": "code",
      "metadata": {
        "colab": {
          "base_uri": "https://localhost:8080/",
          "height": 441
        },
        "id": "_D1rFx5axBap",
        "outputId": "d33bc6c5-3d0b-4cd4-fc7b-5d056458dd7a"
      },
      "source": [
        "plt.hist((train.loc[ind0,'tempo'],train.loc[ind1,'tempo']), stacked=True, density = True)"
      ],
      "execution_count": null,
      "outputs": [
        {
          "output_type": "stream",
          "name": "stderr",
          "text": [
            "/usr/local/lib/python3.7/dist-packages/numpy/core/_asarray.py:83: VisibleDeprecationWarning: Creating an ndarray from ragged nested sequences (which is a list-or-tuple of lists-or-tuples-or ndarrays with different lengths or shapes) is deprecated. If you meant to do this, you must specify 'dtype=object' when creating the ndarray\n",
            "  return array(a, dtype, copy=False, order=order)\n"
          ]
        },
        {
          "output_type": "execute_result",
          "data": {
            "text/plain": [
              "(array([[0.00017968, 0.00197644, 0.00539029, 0.00368337, 0.00539029,\n",
              "         0.00386304, 0.00269515, 0.00242563, 0.00071871, 0.00044919],\n",
              "        [0.00125773, 0.00655819, 0.01087042, 0.01042123, 0.01473346,\n",
              "         0.0110501 , 0.00548013, 0.00422239, 0.00206628, 0.00071871]]),\n",
              " array([ 55.747 ,  70.5885,  85.43  , 100.2715, 115.113 , 129.9545,\n",
              "        144.796 , 159.6375, 174.479 , 189.3205, 204.162 ]),\n",
              " <a list of 2 Lists of Patches objects>)"
            ]
          },
          "metadata": {},
          "execution_count": 20
        },
        {
          "output_type": "display_data",
          "data": {
            "image/png": "[encoded data removed]",
            "text/plain": [
              "<Figure size 432x288 with 1 Axes>"
            ]
          },
          "metadata": {
            "needs_background": "light"
          }
        }
      ]
    },
    {
      "cell_type": "code",
      "metadata": {
        "colab": {
          "base_uri": "https://localhost:8080/",
          "height": 424
        },
        "id": "VJTNuW3zxGui",
        "outputId": "1a19f399-8c02-4354-b629-d1ea32d39dfe"
      },
      "source": [
        "plt.hist((train.loc[ind0,'time_signature'],train.loc[ind1,'time_signature']), stacked=True, density = True)"
      ],
      "execution_count": null,
      "outputs": [
        {
          "output_type": "stream",
          "name": "stderr",
          "text": [
            "/usr/local/lib/python3.7/dist-packages/numpy/core/_asarray.py:83: VisibleDeprecationWarning: Creating an ndarray from ragged nested sequences (which is a list-or-tuple of lists-or-tuples-or ndarrays with different lengths or shapes) is deprecated. If you meant to do this, you must specify 'dtype=object' when creating the ndarray\n",
            "  return array(a, dtype, copy=False, order=order)\n"
          ]
        },
        {
          "output_type": "execute_result",
          "data": {
            "text/plain": [
              "(array([[0.00333333, 0.        , 0.        , 0.        , 0.        ,\n",
              "         0.03333333, 0.        , 0.93666667, 0.        , 0.02      ],\n",
              "        [0.02      , 0.        , 0.        , 0.        , 0.        ,\n",
              "         0.21333333, 0.        , 2.23666667, 0.        , 0.03      ]]),\n",
              " array([1. , 1.4, 1.8, 2.2, 2.6, 3. , 3.4, 3.8, 4.2, 4.6, 5. ]),\n",
              " <a list of 2 Lists of Patches objects>)"
            ]
          },
          "metadata": {},
          "execution_count": 21
        },
        {
          "output_type": "display_data",
          "data": {
            "image/png": "[encoded data removed]",
            "text/plain": [
              "<Figure size 432x288 with 1 Axes>"
            ]
          },
          "metadata": {
            "needs_background": "light"
          }
        }
      ]
    },
    {
      "cell_type": "code",
      "metadata": {
        "colab": {
          "base_uri": "https://localhost:8080/",
          "height": 441
        },
        "id": "itySvQGJxORN",
        "outputId": "9cf28cd2-2bae-4640-c2ce-1b86112e7525"
      },
      "source": [
        "plt.hist((train.loc[ind0,'valence'],train.loc[ind1,'valence']), stacked=True, density = True)"
      ],
      "execution_count": null,
      "outputs": [
        {
          "output_type": "stream",
          "name": "stderr",
          "text": [
            "/usr/local/lib/python3.7/dist-packages/numpy/core/_asarray.py:83: VisibleDeprecationWarning: Creating an ndarray from ragged nested sequences (which is a list-or-tuple of lists-or-tuples-or ndarrays with different lengths or shapes) is deprecated. If you meant to do this, you must specify 'dtype=object' when creating the ndarray\n",
            "  return array(a, dtype, copy=False, order=order)\n"
          ]
        },
        {
          "output_type": "execute_result",
          "data": {
            "text/plain": [
              "(array([[0.12741559, 0.25483117, 0.43887591, 0.39640405, 0.53797692,\n",
              "         0.69370709, 0.52381964, 0.48134777, 0.36808947, 0.39640405],\n",
              "        [0.53797692, 0.93438097, 1.44404332, 1.18921215, 1.40157146,\n",
              "         1.40157146, 1.132583  , 1.10426842, 0.77865081, 0.69370709]]),\n",
              " array([0.0332 , 0.12738, 0.22156, 0.31574, 0.40992, 0.5041 , 0.59828,\n",
              "        0.69246, 0.78664, 0.88082, 0.975  ]),\n",
              " <a list of 2 Lists of Patches objects>)"
            ]
          },
          "metadata": {},
          "execution_count": 22
        },
        {
          "output_type": "display_data",
          "data": {
            "image/png": "[encoded data removed]",
            "text/plain": [
              "<Figure size 432x288 with 1 Axes>"
            ]
          },
          "metadata": {
            "needs_background": "light"
          }
        }
      ]
    },
    {
      "cell_type": "code",
      "metadata": {
        "colab": {
          "base_uri": "https://localhost:8080/"
        },
        "id": "y8ehusMAlgJx",
        "outputId": "d1289271-927b-4b47-d0d2-5d7969ce30cd"
      },
      "source": [
        "#names=[\"'acousticness'\",\"'danceability'\",\"'duration'\",\"'energy'\",\"'instrumentalness'\",\"'key'\",\"'liveness'\",\"'loudness'\",\"'mode'\",\"'speechiness'\",\"'tempo'\",\"'time_signature'\",\"'valence'\",\"'label'\"]\n",
        "for i in names:\n",
        "  print(i)"
      ],
      "execution_count": null,
      "outputs": [
        {
          "output_type": "stream",
          "name": "stdout",
          "text": [
            "acousticness\n",
            "danceability\n",
            "duration\n",
            "energy\n",
            "instrumentalness\n",
            "key\n",
            "liveness\n",
            "loudness\n",
            "mode\n",
            "speechiness\n",
            "tempo\n",
            "time_signature\n",
            "valence\n",
            "label\n"
          ]
        }
      ]
    },
    {
      "cell_type": "code",
      "metadata": {
        "id": "B0S_R7FLxrtR"
      },
      "source": [
        "#feature_selection = ['acousticness','danceability','duration','energy','instrumentalness','key','liveness','loudness','mode','speechiness','tempo','time_signature','valence','label'] # All features\n",
        "#select all features\n",
        "feature_selection = ['acousticness','danceability','duration','energy','instrumentalness','key','liveness','loudness','mode','speechiness','tempo','time_signature','valence']\n",
        "\n",
        "# Split data into features and labels, convert labels R->0 and M->1\n",
        "X, y = train.loc[:, feature_selection], train.loc[:, 'label']\n",
        "\n",
        "#scale the data\n",
        "#from sklearn.preprocessing import MinMaxScaler\n",
        "from sklearn.preprocessing import StandardScaler\n",
        "#X = X*1/np.max(np.abs(X), axis=0)\n",
        "#scaler = MinMaxScaler()\n",
        "scaler = StandardScaler()\n",
        "scaler.fit(X)\n",
        "X = scaler.transform(X)\n",
        "\n",
        "X_test = test.loc[:,feature_selection].values\n",
        "scaler = StandardScaler()\n",
        "scaler.fit(X_test)\n",
        "X_test_n= scaler.transform(X_test)\n",
        "\n",
        "\n",
        "from sklearn.model_selection import train_test_split\n",
        "# Split into train and test\n",
        "X_train_new, X_test_new, y_train_new, y_test_new = train_test_split(X, y, test_size=0.33, random_state=42)"
      ],
      "execution_count": 4,
      "outputs": []
    },
    {
      "cell_type": "code",
      "metadata": {
        "colab": {
          "base_uri": "https://localhost:8080/"
        },
        "id": "HPFLF5aZyLKt",
        "outputId": "5bbd2147-7d5c-45c7-e02d-0b30ecc0a69d"
      },
      "source": [
        "# To have consistent performance for decision trees here and for normalized version \n",
        "# we need the same random state, and since I say it should not matter with scaling \n",
        "# for decision trees I think it is nicer to get the same result.\n",
        "\n",
        "from sklearn.tree import DecisionTreeClassifier\n",
        "np.random.seed(37) \n",
        "\n",
        "classifiers = [\n",
        "    KNeighborsClassifier(5),\n",
        "    DecisionTreeClassifier(max_depth=2)]\n",
        "    \n",
        "from sklearn.model_selection import cross_val_score\n",
        "\n",
        "for clf in classifiers:\n",
        "    clf.fit(X_train_new, y_train_new)\n",
        "    score_tr = clf.score(X_train_new, y_train_new)\n",
        "    score_test = clf.score(X_test_new, y_test_new)\n",
        "    score_cv = cross_val_score(clf, X_test_new, y_test_new, cv=20)\n",
        "    print(\"{} test accuracy: {}\".format(clf.__class__.__name__, score_tr))\n",
        "    print(\"{} train accuracy: {}\".format(clf.__class__.__name__, score_test))\n",
        "    print(\"{} test accuracy cross valid: {}\".format(clf.__class__.__name__, np.mean(score_cv)))\n",
        "    print()"
      ],
      "execution_count": 6,
      "outputs": [
        {
          "output_type": "stream",
          "name": "stdout",
          "text": [
            "KNeighborsClassifier test accuracy: 0.8565737051792829\n",
            "KNeighborsClassifier train accuracy: 0.8145161290322581\n",
            "KNeighborsClassifier test accuracy cross valid: 0.7544871794871795\n",
            "\n",
            "DecisionTreeClassifier test accuracy: 0.8266932270916335\n",
            "DecisionTreeClassifier train accuracy: 0.7943548387096774\n",
            "DecisionTreeClassifier test accuracy cross valid: 0.7903846153846155\n",
            "\n"
          ]
        }
      ]
    },
    {
      "cell_type": "code",
      "metadata": {
        "colab": {
          "base_uri": "https://localhost:8080/"
        },
        "id": "0IiU516y1ibK",
        "outputId": "1b76b6ce-84c7-453f-c4cf-fb35051117d1"
      },
      "source": [
        "from sklearn.ensemble import RandomForestClassifier\n",
        "\n",
        "clf = RandomForestClassifier()\n",
        "#find the best tuning parameters \n",
        "from sklearn.model_selection import GridSearchCV\n",
        "param_grid = {\n",
        "    'n_estimators': [10, 1000],\n",
        "    'max_depth': [2, 3, 4, 5, 6]\n",
        "    }\n",
        "\n",
        "search = GridSearchCV(clf, param_grid, cv=4, verbose=1,n_jobs=-1)\n",
        "\n",
        "search.fit(X_train_new, y_train_new)\n",
        "#score = search.score(X_test_new, y_test_new)\n",
        "score=cross_val_score(clf, X_test_new, y_test_new, cv=20)\n",
        "print(\"Best CV score: {} using {}\".format(search.best_score_, search.best_params_))\n",
        "print(\"Test accuracy: {}\".format(score))"
      ],
      "execution_count": null,
      "outputs": [
        {
          "output_type": "stream",
          "name": "stdout",
          "text": [
            "Fitting 4 folds for each of 10 candidates, totalling 40 fits\n"
          ]
        },
        {
          "output_type": "stream",
          "name": "stderr",
          "text": [
            "[Parallel(n_jobs=-1)]: Using backend LokyBackend with 2 concurrent workers.\n",
            "[Parallel(n_jobs=-1)]: Done  40 out of  40 | elapsed:   27.4s finished\n"
          ]
        },
        {
          "output_type": "stream",
          "name": "stdout",
          "text": [
            "Best CV score: 0.8246666666666667 using {'max_depth': 6, 'n_estimators': 1000}\n",
            "Test accuracy: [0.84615385 1.         0.69230769 0.92307692 0.84615385 0.92307692\n",
            " 0.76923077 0.69230769 0.83333333 0.75       0.66666667 0.83333333\n",
            " 0.83333333 0.83333333 0.91666667 0.75       1.         0.58333333\n",
            " 0.83333333 1.        ]\n"
          ]
        }
      ]
    },
    {
      "cell_type": "code",
      "metadata": {
        "colab": {
          "base_uri": "https://localhost:8080/"
        },
        "id": "5O9AN4TRM5H2",
        "outputId": "6bfbe9ac-4f6e-4f71-9d82-0513f62cc2ad"
      },
      "source": [
        "#try the best Random Forest Classifier\n",
        "#from sklearn.ensemble import RandomForestClassifier\n",
        "\n",
        "randomForestModel = RandomForestClassifier(n_estimators=1000,max_depth=5)\n",
        "randomForestModel.fit(X_train_new, y_train_new)\n",
        "score_cv = cross_val_score(randomForestModel, X_test_new, y_test_new, cv=20)\n",
        "score_test  =randomForestModel.score(X_test_new, y_test_new)\n",
        "print(\"Score with RandomForestClassifier - cross validation: \",np.mean(score_cv))\n",
        "print(\"Score with RandomForestClassifier - testing: \",score_test)"
      ],
      "execution_count": null,
      "outputs": [
        {
          "output_type": "stream",
          "name": "stdout",
          "text": [
            "Score with RandomForestClassifier - cross validation:  0.8349358974358975\n",
            "Score with RandomForestClassifier - testing:  0.8104838709677419\n"
          ]
        }
      ]
    },
    {
      "cell_type": "code",
      "metadata": {
        "colab": {
          "base_uri": "https://localhost:8080/",
          "height": 457
        },
        "id": "zwQelXIXSvOd",
        "outputId": "ef119fce-3e85-44a9-8126-244fc57651bd"
      },
      "source": [
        "# get Feature Imporance for each feature using Random Forest\n",
        "from pandas import DataFrame\n",
        "feature_df = DataFrame(train.columns.delete(0))\n",
        "feature_df.columns = ['Features']\n",
        "feature_df[\"Feature Importance\"] = pd.Series(randomForestModel.feature_importances_)\n",
        "\n",
        "# preview\n",
        "feature_df"
      ],
      "execution_count": null,
      "outputs": [
        {
          "output_type": "execute_result",
          "data": {
            "text/html": [
              "<div>\n",
              "<style scoped>\n",
              "    .dataframe tbody tr th:only-of-type {\n",
              "        vertical-align: middle;\n",
              "    }\n",
              "\n",
              "    .dataframe tbody tr th {\n",
              "        vertical-align: top;\n",
              "    }\n",
              "\n",
              "    .dataframe thead th {\n",
              "        text-align: right;\n",
              "    }\n",
              "</style>\n",
              "<table border=\"1\" class=\"dataframe\">\n",
              "  <thead>\n",
              "    <tr style=\"text-align: right;\">\n",
              "      <th></th>\n",
              "      <th>Features</th>\n",
              "      <th>Feature Importance</th>\n",
              "    </tr>\n",
              "  </thead>\n",
              "  <tbody>\n",
              "    <tr>\n",
              "      <th>0</th>\n",
              "      <td>danceability</td>\n",
              "      <td>0.140739</td>\n",
              "    </tr>\n",
              "    <tr>\n",
              "      <th>1</th>\n",
              "      <td>duration</td>\n",
              "      <td>0.099575</td>\n",
              "    </tr>\n",
              "    <tr>\n",
              "      <th>2</th>\n",
              "      <td>energy</td>\n",
              "      <td>0.050616</td>\n",
              "    </tr>\n",
              "    <tr>\n",
              "      <th>3</th>\n",
              "      <td>instrumentalness</td>\n",
              "      <td>0.133596</td>\n",
              "    </tr>\n",
              "    <tr>\n",
              "      <th>4</th>\n",
              "      <td>key</td>\n",
              "      <td>0.027839</td>\n",
              "    </tr>\n",
              "    <tr>\n",
              "      <th>5</th>\n",
              "      <td>liveness</td>\n",
              "      <td>0.019265</td>\n",
              "    </tr>\n",
              "    <tr>\n",
              "      <th>6</th>\n",
              "      <td>loudness</td>\n",
              "      <td>0.034055</td>\n",
              "    </tr>\n",
              "    <tr>\n",
              "      <th>7</th>\n",
              "      <td>mode</td>\n",
              "      <td>0.171696</td>\n",
              "    </tr>\n",
              "    <tr>\n",
              "      <th>8</th>\n",
              "      <td>speechiness</td>\n",
              "      <td>0.002946</td>\n",
              "    </tr>\n",
              "    <tr>\n",
              "      <th>9</th>\n",
              "      <td>tempo</td>\n",
              "      <td>0.238341</td>\n",
              "    </tr>\n",
              "    <tr>\n",
              "      <th>10</th>\n",
              "      <td>time_signature</td>\n",
              "      <td>0.037556</td>\n",
              "    </tr>\n",
              "    <tr>\n",
              "      <th>11</th>\n",
              "      <td>valence</td>\n",
              "      <td>0.003981</td>\n",
              "    </tr>\n",
              "    <tr>\n",
              "      <th>12</th>\n",
              "      <td>label</td>\n",
              "      <td>0.039795</td>\n",
              "    </tr>\n",
              "  </tbody>\n",
              "</table>\n",
              "</div>"
            ],
            "text/plain": [
              "            Features  Feature Importance\n",
              "0       danceability            0.140739\n",
              "1           duration            0.099575\n",
              "2             energy            0.050616\n",
              "3   instrumentalness            0.133596\n",
              "4                key            0.027839\n",
              "5           liveness            0.019265\n",
              "6           loudness            0.034055\n",
              "7               mode            0.171696\n",
              "8        speechiness            0.002946\n",
              "9              tempo            0.238341\n",
              "10    time_signature            0.037556\n",
              "11           valence            0.003981\n",
              "12             label            0.039795"
            ]
          },
          "metadata": {},
          "execution_count": 34
        }
      ]
    },
    {
      "cell_type": "code",
      "metadata": {
        "id": "53_1Zv0aH3Yf",
        "colab": {
          "base_uri": "https://localhost:8080/"
        },
        "outputId": "86433247-9fc0-469a-e074-de4862d715a9"
      },
      "source": [
        "#import logistic regression model\n",
        "from sklearn.linear_model import LogisticRegression\n",
        "\n",
        "logitmodel = LogisticRegression(max_iter=1000,tol=0.001)\n",
        "logitmodel.fit(X_train_new, y_train_new)\n",
        "score_test = logitmodel.score(X_test_new, y_test_new)\n",
        "print('Accuracy of the Logistic Regression model {0:.4f}'.format(score_test))\n",
        "score_cv = cross_val_score(logitmodel, X_test_new, y_test_new, cv=20)\n",
        "print(\"Score with Logistic Regression: \",np.mean(score_cv))\n"
      ],
      "execution_count": 9,
      "outputs": [
        {
          "output_type": "stream",
          "name": "stdout",
          "text": [
            "Accuracy of the Logistic Regression model 0.7944\n",
            "Score with Logistic Regression:  0.7955128205128206\n"
          ]
        }
      ]
    },
    {
      "cell_type": "code",
      "metadata": {
        "colab": {
          "base_uri": "https://localhost:8080/"
        },
        "id": "6qqgqJ2VIrp4",
        "outputId": "f951b595-5d52-4d57-905c-19fa087ddbc5"
      },
      "source": [
        "# Make Predictions on Test Data and compare with truth\n",
        "predictions = logitmodel.predict(X_test_n)\n",
        "print(\"Predictions: \",predictions, \"\\n\")\n",
        "#print(\"True data: \",y_test_new,\"\\n\")"
      ],
      "execution_count": null,
      "outputs": [
        {
          "output_type": "stream",
          "name": "stdout",
          "text": [
            "Predictions:  [0 0 0 1 0 1 1 1 0 0 1 1 0 1 1 0 1 0 1 1 0 0 1 1 0 0 1 1 0 0 1 1 0 1 1 1 1\n",
            " 1 0 1 0 1 0 1 0 0 0 1 1 0 0 0 1 1 0 1 1 0 0 0 1 1 1 0 0 1 1 1 1 0 1 0 1 1\n",
            " 1 1 0 1 1 0 1 1 0 1 0 1 1 1 1 0 0 0 0 1 1 0 1 1 1 1 1 0 1 0 0 1 0 1 1 1 1\n",
            " 1 0 0 1 0 1 0 1 1 0 1 1 0 1 1 1 0 1 0 1 0 1 1 1 1 1 1 0 1 1 0 1 0 1 1 0 0\n",
            " 1 0 1 0 0 0 1 1 1 1 1 0 0 1 0 1 1 0 1 1 1 0 1 1 1 0 0 0 1 1 1 0 0 1 1 1 1\n",
            " 1 1 0 1 0 0 1 1 1 1 0 0 1 1 1] \n",
            "\n"
          ]
        }
      ]
    },
    {
      "cell_type": "code",
      "metadata": {
        "colab": {
          "base_uri": "https://localhost:8080/"
        },
        "id": "01AYc7mqFKDp",
        "outputId": "27182496-6976-451a-8879-7f647bc45eb4"
      },
      "source": [
        "from sklearn.ensemble import BaggingClassifier\n",
        "\n",
        "#try decision bagging (with Decision Tree - as base_estimator = None)\n",
        "baggingmodel = BaggingClassifier(n_estimators=55, max_features = 13) #10, 13\n",
        "baggingmodel.fit(X_train_new, y_train_new)\n",
        "score_test = baggingmodel.score(X_test_new, y_test_new)\n",
        "print('Accuracy of the Bagging model {0:.4f}'.format(score_test))\n",
        "score_cv =cross_val_score(baggingmodel, X_test_new, y_test_new, cv=20)\n",
        "print(\"Score with Bagging: \",np.mean(score_cv))\n",
        "\n",
        "predictions = baggingmodel.predict(X=X_test_n)\n",
        "print(predictions)\n",
        "\n",
        "for elem in predictions:\n",
        "  print(elem,end='')\n"
      ],
      "execution_count": null,
      "outputs": [
        {
          "output_type": "stream",
          "name": "stdout",
          "text": [
            "Accuracy of the Bagging model 0.8548\n",
            "Score with Bagging:  0.8506410256410255\n",
            "[0 0 1 1 0 1 1 1 1 0 1 0 1 1 1 0 1 1 1 1 1 0 1 0 1 1 1 1 1 1 1 1 1 1 1 1 1\n",
            " 0 0 1 1 0 1 1 0 1 0 1 1 1 1 1 1 1 0 1 0 1 0 0 1 1 0 1 1 1 1 0 1 1 1 1 0 1\n",
            " 1 1 0 1 1 1 1 1 1 1 0 1 1 1 1 1 1 1 1 1 1 0 1 1 1 1 1 1 1 1 1 1 1 1 1 1 1\n",
            " 1 1 0 1 0 1 1 1 1 0 0 1 1 1 1 1 1 1 1 1 1 1 1 1 1 1 1 1 0 0 0 0 1 1 0 0 1\n",
            " 1 0 1 1 1 0 1 1 1 1 1 0 1 1 0 1 1 0 1 1 0 1 1 1 1 1 0 1 1 1 1 1 1 1 1 0 1\n",
            " 1 1 0 1 1 0 0 0 1 1 0 1 1 1 1]\n",
            "00110111101011101111101011111111111110011011010111111101010011011110111101110111111101111111111011111111111111111010111100111111111111111110000110011011101111101101101101111101111111101110110001101111"
          ]
        }
      ]
    },
    {
      "cell_type": "code",
      "metadata": {
        "colab": {
          "base_uri": "https://localhost:8080/"
        },
        "id": "oY4HRnLzRCeS",
        "outputId": "d2736e28-e16a-4c09-bd0b-b146886241a7"
      },
      "source": [
        "#X_test = test.loc[:,feature_selection].values\n",
        "#scaler = StandardScaler()\n",
        "#scaler.fit(X)\n",
        "#X_test_n= scaler.transform(X_test)\n",
        "\n",
        "# make predictions with bagging model\n",
        "predictions = baggingmodel.predict(X=X_test_n)\n",
        "print(predictions)"
      ],
      "execution_count": null,
      "outputs": [
        {
          "output_type": "stream",
          "name": "stdout",
          "text": [
            "[0 0 1 1 0 1 1 1 1 0 1 0 1 1 1 0 1 1 1 1 1 0 1 0 1 1 1 1 1 1 1 1 1 1 1 1 1\n",
            " 0 0 1 1 0 1 1 0 1 0 1 1 1 1 1 1 1 0 1 0 1 0 0 1 1 0 1 1 1 1 0 1 1 1 1 0 1\n",
            " 1 1 0 1 1 1 1 1 1 1 0 1 1 1 1 1 1 1 1 1 1 0 1 1 1 1 1 1 1 1 1 1 1 1 1 1 1\n",
            " 1 1 0 1 0 1 1 1 1 0 0 1 1 1 1 1 1 1 1 1 1 1 1 1 1 1 1 1 0 0 0 0 1 1 0 0 1\n",
            " 1 0 1 1 1 0 1 1 1 1 1 0 1 1 0 1 1 0 1 1 0 1 1 1 1 1 0 1 1 1 1 1 1 1 1 0 1\n",
            " 1 1 0 1 1 0 0 0 1 1 0 1 1 1 1]\n"
          ]
        }
      ]
    },
    {
      "cell_type": "code",
      "metadata": {
        "colab": {
          "base_uri": "https://localhost:8080/"
        },
        "id": "JqKc005YZ1lD",
        "outputId": "f037035b-663d-4925-dc8e-eec838d2575f"
      },
      "source": [
        "#try Boosting model\n",
        "from sklearn.ensemble import GradientBoostingClassifier\n",
        "\n",
        "lr_list = [0.05, 0.075, 0.1, 0.25, 0.5, 0.75, 1]\n",
        "for learning_rate in lr_list:   \n",
        "    gbmodel = GradientBoostingClassifier(n_estimators=50, learning_rate=learning_rate, max_features=6, max_depth=3, random_state=0)\n",
        "    gbmodel.fit(X_train_new, y_train_new)\n",
        "    print(\"Learning rate: \", learning_rate)\n",
        "    print(\"Accuracy score (test): {0:.3f}\".format(gbmodel.score(X_test_new, y_test_new)))\n",
        "    score=cross_val_score(gbmodel, X_test_new, y_test_new, cv=20)\n",
        "    print(\"Accuracy score (cross-validation)\",np.mean(score))\n"
      ],
      "execution_count": null,
      "outputs": [
        {
          "output_type": "stream",
          "name": "stdout",
          "text": [
            "Learning rate:  0.05\n",
            "Accuracy score (test): 0.839\n",
            "Accuracy score (cross-validation) 0.8262820512820515\n",
            "Learning rate:  0.075\n",
            "Accuracy score (test): 0.839\n",
            "Accuracy score (cross-validation) 0.8384615384615384\n",
            "Learning rate:  0.1\n",
            "Accuracy score (test): 0.851\n",
            "Accuracy score (cross-validation) 0.8387820512820514\n",
            "Learning rate:  0.25\n",
            "Accuracy score (test): 0.839\n",
            "Accuracy score (cross-validation) 0.8381410256410255\n",
            "Learning rate:  0.5\n",
            "Accuracy score (test): 0.827\n",
            "Accuracy score (cross-validation) 0.8259615384615385\n",
            "Learning rate:  0.75\n",
            "Accuracy score (test): 0.827\n",
            "Accuracy score (cross-validation) 0.8304487179487179\n",
            "Learning rate:  1\n",
            "Accuracy score (test): 0.831\n",
            "Accuracy score (cross-validation) 0.8307692307692307\n"
          ]
        }
      ]
    },
    {
      "cell_type": "code",
      "metadata": {
        "colab": {
          "base_uri": "https://localhost:8080/"
        },
        "id": "Y38-xUupRkSI",
        "outputId": "56ec7406-7a66-47ef-f44b-b51f06c1f87b"
      },
      "source": [
        "gbmodel_good = GradientBoostingClassifier(n_estimators=50, learning_rate=0.1, max_features=6, max_depth=3, random_state=0)\n",
        "gbmodel_good.fit(X_train_new, y_train_new)\n",
        "score=cross_val_score(gbmodel_good, X_test_new, y_test_new, cv=20)\n",
        "score2 = gbmodel_good.score(X_test_new, y_test_new)\n",
        "print(\"Accuracy score (cross-validation)\",np.mean(score))\n",
        "print(\"Accuracy score \",score2)\n",
        "\n",
        "# make predictions with bagging model\n",
        "predictions = gbmodel_good.predict(X=X_test_n)\n",
        "print(predictions)"
      ],
      "execution_count": null,
      "outputs": [
        {
          "output_type": "stream",
          "name": "stdout",
          "text": [
            "Accuracy score (cross-validation) 0.8387820512820514\n",
            "Accuracy score  0.8508064516129032\n",
            "[0 0 0 1 0 0 1 1 0 0 1 1 0 1 1 0 1 0 1 1 1 0 1 1 0 0 0 0 0 1 1 1 0 1 1 1 1\n",
            " 1 0 1 0 1 0 1 0 1 0 1 1 0 0 0 1 1 0 1 1 0 0 0 1 1 1 0 0 1 1 1 1 0 1 0 1 1\n",
            " 1 1 0 1 1 0 1 1 0 1 0 1 1 1 0 0 0 0 0 0 1 0 1 1 1 1 1 0 1 0 0 1 0 1 1 1 1\n",
            " 1 0 0 1 0 1 0 1 0 1 1 1 0 1 1 1 0 1 0 1 0 1 1 1 1 1 1 1 1 1 0 1 0 1 1 0 0\n",
            " 1 0 1 0 0 0 1 1 1 1 1 1 1 1 0 1 1 1 1 1 1 1 1 1 1 1 0 0 0 1 1 0 1 1 1 1 1\n",
            " 1 1 0 1 0 0 1 1 1 1 1 0 1 1 1]\n"
          ]
        }
      ]
    },
    {
      "cell_type": "code",
      "metadata": {
        "colab": {
          "base_uri": "https://localhost:8080/"
        },
        "id": "KkqwSaZQ3X80",
        "outputId": "25506cb0-e8f4-459a-f326-62aa1bf8a0fa"
      },
      "source": [
        "for elem in predictions:\n",
        "  print(elem,end='')"
      ],
      "execution_count": null,
      "outputs": [
        {
          "output_type": "stream",
          "name": "stdout",
          "text": [
            "00010011001101101011101100000111011111010101010110001101100011100111101011110110110101110000001011111010010111110010101011101110101011111111101011001010001111111101111111111100011011111110100111110111"
          ]
        }
      ]
    },
    {
      "cell_type": "code",
      "metadata": {
        "colab": {
          "base_uri": "https://localhost:8080/"
        },
        "id": "DIIDbw8DXARe",
        "outputId": "29c5d020-714a-49c7-9da2-07adcc1120f9"
      },
      "source": [
        "#try SVM model\n",
        "from sklearn import svm\n",
        "\n",
        "svmmodel = svm.SVC()\n",
        "svmmodel.fit(X_train_new, y_train_new)\n",
        "score_test = svmmodel.score(X_test_new, y_test_new)\n",
        "print('Accuracy of the SVM model {0:.4f}'.format(score_test))\n",
        "score_cv = cross_val_score(svmmodel, X_test_new, y_test_new, cv=20)\n",
        "print(\"Score with SVM: \",np.mean(score_cv))"
      ],
      "execution_count": null,
      "outputs": [
        {
          "output_type": "stream",
          "name": "stdout",
          "text": [
            "Accuracy of the SVM model 0.8024\n",
            "Score with SVM:  0.7756410256410257\n"
          ]
        }
      ]
    }
  ]
}