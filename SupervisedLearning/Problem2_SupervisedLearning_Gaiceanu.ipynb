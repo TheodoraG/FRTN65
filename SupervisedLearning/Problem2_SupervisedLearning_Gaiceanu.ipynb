{
  "metadata": {
    "kernelspec": {
      "language": "python",
      "display_name": "Python 3",
      "name": "python3"
    },
    "language_info": {
      "pygments_lexer": "ipython3",
      "nbconvert_exporter": "python",
      "version": "3.6.4",
      "file_extension": ".py",
      "codemirror_mode": {
        "name": "ipython",
        "version": 3
      },
      "name": "python",
      "mimetype": "text/x-python"
    },
    "colab": {
      "name": "Problem2_SupervisedLearning_Gaiceanu.ipynb",
      "provenance": [],
      "collapsed_sections": []
    }
  },
  "nbformat_minor": 0,
  "nbformat": 4,
  "cells": [
    {
      "cell_type": "markdown",
      "source": [
        "The data is from a number of patients. The 12 first columns (age, an, ..., time) are features that should be used to predict the outcome in the last column (DEATH_EVENT).\n"
      ],
      "metadata": {
        "id": "54keeXJjWTsq"
      }
    },
    {
      "cell_type": "code",
      "source": [
        "# Loading some functionality you might find useful. You might want other than this...\n",
        "import pandas as pd\n",
        "import numpy as np\n",
        "import matplotlib.pyplot as plt\n",
        "import seaborn as sns\n",
        "from sklearn import metrics\n",
        "from sklearn.model_selection import train_test_split, cross_val_score, GridSearchCV\n",
        "from pandas.plotting import scatter_matrix\n",
        "from sklearn.preprocessing import StandardScaler\n",
        "from sklearn.neighbors import KNeighborsClassifier\n",
        "from sklearn.tree import DecisionTreeClassifier, plot_tree\n",
        "from sklearn.ensemble import RandomForestClassifier\n",
        "from sklearn.svm import SVC\n",
        "from sklearn.decomposition import PCA\n",
        "from sklearn.cluster import KMeans\n",
        "\n"
      ],
      "metadata": {
        "execution": {
          "iopub.status.busy": "2021-12-15T10:11:20.120886Z",
          "iopub.execute_input": "2021-12-15T10:11:20.121164Z",
          "iopub.status.idle": "2021-12-15T10:11:21.425074Z",
          "shell.execute_reply.started": "2021-12-15T10:11:20.121127Z",
          "shell.execute_reply": "2021-12-15T10:11:21.424032Z"
        },
        "trusted": true,
        "id": "ELGUeZS3WTsq"
      },
      "execution_count": null,
      "outputs": []
    },
    {
      "cell_type": "code",
      "source": [
        "# Downloading data \n",
        "url = 'https://raw.githubusercontent.com/BoBernhardsson/frtn65_exam2022/main/data.csv'\n",
        "data = pd.read_csv(url)\n",
        "data.head()"
      ],
      "metadata": {
        "colab": {
          "base_uri": "https://localhost:8080/",
          "height": 206
        },
        "id": "JTB5VN9aYOsN",
        "outputId": "fb34d9c4-0792-4725-85f5-9ca73abebed8"
      },
      "execution_count": null,
      "outputs": [
        {
          "output_type": "execute_result",
          "data": {
            "text/html": [
              "\n",
              "  <div id=\"df-867f0135-e78f-4986-849d-ac8fe48377fa\">\n",
              "    <div class=\"colab-df-container\">\n",
              "      <div>\n",
              "<style scoped>\n",
              "    .dataframe tbody tr th:only-of-type {\n",
              "        vertical-align: middle;\n",
              "    }\n",
              "\n",
              "    .dataframe tbody tr th {\n",
              "        vertical-align: top;\n",
              "    }\n",
              "\n",
              "    .dataframe thead th {\n",
              "        text-align: right;\n",
              "    }\n",
              "</style>\n",
              "<table border=\"1\" class=\"dataframe\">\n",
              "  <thead>\n",
              "    <tr style=\"text-align: right;\">\n",
              "      <th></th>\n",
              "      <th>age</th>\n",
              "      <th>an</th>\n",
              "      <th>cr</th>\n",
              "      <th>di</th>\n",
              "      <th>ej</th>\n",
              "      <th>hi</th>\n",
              "      <th>pl</th>\n",
              "      <th>se1</th>\n",
              "      <th>se2</th>\n",
              "      <th>sex</th>\n",
              "      <th>sm</th>\n",
              "      <th>time</th>\n",
              "      <th>DEATH_EVENT</th>\n",
              "    </tr>\n",
              "  </thead>\n",
              "  <tbody>\n",
              "    <tr>\n",
              "      <th>0</th>\n",
              "      <td>75.0</td>\n",
              "      <td>0</td>\n",
              "      <td>582</td>\n",
              "      <td>0</td>\n",
              "      <td>20</td>\n",
              "      <td>1</td>\n",
              "      <td>265000.00</td>\n",
              "      <td>1.9</td>\n",
              "      <td>130</td>\n",
              "      <td>1</td>\n",
              "      <td>0</td>\n",
              "      <td>4</td>\n",
              "      <td>1</td>\n",
              "    </tr>\n",
              "    <tr>\n",
              "      <th>1</th>\n",
              "      <td>55.0</td>\n",
              "      <td>0</td>\n",
              "      <td>7861</td>\n",
              "      <td>0</td>\n",
              "      <td>38</td>\n",
              "      <td>0</td>\n",
              "      <td>263358.03</td>\n",
              "      <td>1.1</td>\n",
              "      <td>136</td>\n",
              "      <td>1</td>\n",
              "      <td>0</td>\n",
              "      <td>6</td>\n",
              "      <td>1</td>\n",
              "    </tr>\n",
              "    <tr>\n",
              "      <th>2</th>\n",
              "      <td>65.0</td>\n",
              "      <td>0</td>\n",
              "      <td>146</td>\n",
              "      <td>0</td>\n",
              "      <td>20</td>\n",
              "      <td>0</td>\n",
              "      <td>162000.00</td>\n",
              "      <td>1.3</td>\n",
              "      <td>129</td>\n",
              "      <td>1</td>\n",
              "      <td>1</td>\n",
              "      <td>7</td>\n",
              "      <td>1</td>\n",
              "    </tr>\n",
              "    <tr>\n",
              "      <th>3</th>\n",
              "      <td>50.0</td>\n",
              "      <td>1</td>\n",
              "      <td>111</td>\n",
              "      <td>0</td>\n",
              "      <td>20</td>\n",
              "      <td>0</td>\n",
              "      <td>210000.00</td>\n",
              "      <td>1.9</td>\n",
              "      <td>137</td>\n",
              "      <td>1</td>\n",
              "      <td>0</td>\n",
              "      <td>7</td>\n",
              "      <td>1</td>\n",
              "    </tr>\n",
              "    <tr>\n",
              "      <th>4</th>\n",
              "      <td>65.0</td>\n",
              "      <td>1</td>\n",
              "      <td>160</td>\n",
              "      <td>1</td>\n",
              "      <td>20</td>\n",
              "      <td>0</td>\n",
              "      <td>327000.00</td>\n",
              "      <td>2.7</td>\n",
              "      <td>116</td>\n",
              "      <td>0</td>\n",
              "      <td>0</td>\n",
              "      <td>8</td>\n",
              "      <td>1</td>\n",
              "    </tr>\n",
              "  </tbody>\n",
              "</table>\n",
              "</div>\n",
              "      <button class=\"colab-df-convert\" onclick=\"convertToInteractive('df-867f0135-e78f-4986-849d-ac8fe48377fa')\"\n",
              "              title=\"Convert this dataframe to an interactive table.\"\n",
              "              style=\"display:none;\">\n",
              "        \n",
              "  <svg xmlns=\"http://www.w3.org/2000/svg\" height=\"24px\"viewBox=\"0 0 24 24\"\n",
              "       width=\"24px\">\n",
              "    <path d=\"M0 0h24v24H0V0z\" fill=\"none\"/>\n",
              "    <path d=\"M18.56 5.44l.94 2.06.94-2.06 2.06-.94-2.06-.94-.94-2.06-.94 2.06-2.06.94zm-11 1L8.5 8.5l.94-2.06 2.06-.94-2.06-.94L8.5 2.5l-.94 2.06-2.06.94zm10 10l.94 2.06.94-2.06 2.06-.94-2.06-.94-.94-2.06-.94 2.06-2.06.94z\"/><path d=\"M17.41 7.96l-1.37-1.37c-.4-.4-.92-.59-1.43-.59-.52 0-1.04.2-1.43.59L10.3 9.45l-7.72 7.72c-.78.78-.78 2.05 0 2.83L4 21.41c.39.39.9.59 1.41.59.51 0 1.02-.2 1.41-.59l7.78-7.78 2.81-2.81c.8-.78.8-2.07 0-2.86zM5.41 20L4 18.59l7.72-7.72 1.47 1.35L5.41 20z\"/>\n",
              "  </svg>\n",
              "      </button>\n",
              "      \n",
              "  <style>\n",
              "    .colab-df-container {\n",
              "      display:flex;\n",
              "      flex-wrap:wrap;\n",
              "      gap: 12px;\n",
              "    }\n",
              "\n",
              "    .colab-df-convert {\n",
              "      background-color: #E8F0FE;\n",
              "      border: none;\n",
              "      border-radius: 50%;\n",
              "      cursor: pointer;\n",
              "      display: none;\n",
              "      fill: #1967D2;\n",
              "      height: 32px;\n",
              "      padding: 0 0 0 0;\n",
              "      width: 32px;\n",
              "    }\n",
              "\n",
              "    .colab-df-convert:hover {\n",
              "      background-color: #E2EBFA;\n",
              "      box-shadow: 0px 1px 2px rgba(60, 64, 67, 0.3), 0px 1px 3px 1px rgba(60, 64, 67, 0.15);\n",
              "      fill: #174EA6;\n",
              "    }\n",
              "\n",
              "    [theme=dark] .colab-df-convert {\n",
              "      background-color: #3B4455;\n",
              "      fill: #D2E3FC;\n",
              "    }\n",
              "\n",
              "    [theme=dark] .colab-df-convert:hover {\n",
              "      background-color: #434B5C;\n",
              "      box-shadow: 0px 1px 3px 1px rgba(0, 0, 0, 0.15);\n",
              "      filter: drop-shadow(0px 1px 2px rgba(0, 0, 0, 0.3));\n",
              "      fill: #FFFFFF;\n",
              "    }\n",
              "  </style>\n",
              "\n",
              "      <script>\n",
              "        const buttonEl =\n",
              "          document.querySelector('#df-867f0135-e78f-4986-849d-ac8fe48377fa button.colab-df-convert');\n",
              "        buttonEl.style.display =\n",
              "          google.colab.kernel.accessAllowed ? 'block' : 'none';\n",
              "\n",
              "        async function convertToInteractive(key) {\n",
              "          const element = document.querySelector('#df-867f0135-e78f-4986-849d-ac8fe48377fa');\n",
              "          const dataTable =\n",
              "            await google.colab.kernel.invokeFunction('convertToInteractive',\n",
              "                                                     [key], {});\n",
              "          if (!dataTable) return;\n",
              "\n",
              "          const docLinkHtml = 'Like what you see? Visit the ' +\n",
              "            '<a target=\"_blank\" href=https://colab.research.google.com/notebooks/data_table.ipynb>data table notebook</a>'\n",
              "            + ' to learn more about interactive tables.';\n",
              "          element.innerHTML = '';\n",
              "          dataTable['output_type'] = 'display_data';\n",
              "          await google.colab.output.renderOutput(dataTable, element);\n",
              "          const docLink = document.createElement('div');\n",
              "          docLink.innerHTML = docLinkHtml;\n",
              "          element.appendChild(docLink);\n",
              "        }\n",
              "      </script>\n",
              "    </div>\n",
              "  </div>\n",
              "  "
            ],
            "text/plain": [
              "    age  an    cr  di  ej  hi         pl  se1  se2  sex  sm  time  DEATH_EVENT\n",
              "0  75.0   0   582   0  20   1  265000.00  1.9  130    1   0     4            1\n",
              "1  55.0   0  7861   0  38   0  263358.03  1.1  136    1   0     6            1\n",
              "2  65.0   0   146   0  20   0  162000.00  1.3  129    1   1     7            1\n",
              "3  50.0   1   111   0  20   0  210000.00  1.9  137    1   0     7            1\n",
              "4  65.0   1   160   1  20   0  327000.00  2.7  116    0   0     8            1"
            ]
          },
          "metadata": {},
          "execution_count": 2
        }
      ]
    },
    {
      "cell_type": "code",
      "source": [
        "# Picking out features and labels\n",
        "X = data.iloc[:,:-1].values\n",
        "y = data.iloc[:,-1].values\n",
        "(X.shape,y.shape)"
      ],
      "metadata": {
        "id": "tY94C_kaU7W3",
        "colab": {
          "base_uri": "https://localhost:8080/"
        },
        "outputId": "41faf36a-a72e-4f7a-acc0-d4c68cb9e696"
      },
      "execution_count": null,
      "outputs": [
        {
          "output_type": "execute_result",
          "data": {
            "text/plain": [
              "((299, 12), (299,))"
            ]
          },
          "metadata": {},
          "execution_count": 3
        }
      ]
    },
    {
      "cell_type": "code",
      "source": [
        "# select which features to use\n",
        "\n",
        "X = data.drop(columns=['DEATH_EVENT'])\n",
        "y = data.loc[:,'DEATH_EVENT'].values"
      ],
      "metadata": {
        "id": "Ylwd0vF19rGZ"
      },
      "execution_count": null,
      "outputs": []
    },
    {
      "cell_type": "code",
      "source": [
        "# Creating some initial KNN models and evaluating accuracy \n",
        "Ndata = data.shape[0]\n",
        "for nr in range(1,10):\n",
        "   knnmodel = KNeighborsClassifier(n_neighbors = nr)\n",
        "   knnmodel.fit(X=X,y=y)\n",
        "   predictions = knnmodel.predict(X=X)\n",
        "   print('neighbors = {0}: accuracy = {1:.3f}'.format(nr,1-sum(abs(predictions-y))/Ndata))"
      ],
      "metadata": {
        "colab": {
          "base_uri": "https://localhost:8080/"
        },
        "id": "K-kXgb0l13ex",
        "outputId": "01462f10-dba9-4da0-9d23-abe686e9b19f"
      },
      "execution_count": null,
      "outputs": [
        {
          "output_type": "stream",
          "name": "stdout",
          "text": [
            "neighbors = 1: accuracy = 1.000\n",
            "neighbors = 2: accuracy = 0.779\n",
            "neighbors = 3: accuracy = 0.779\n",
            "neighbors = 4: accuracy = 0.726\n",
            "neighbors = 5: accuracy = 0.749\n",
            "neighbors = 6: accuracy = 0.719\n",
            "neighbors = 7: accuracy = 0.722\n",
            "neighbors = 8: accuracy = 0.702\n",
            "neighbors = 9: accuracy = 0.709\n"
          ]
        }
      ]
    },
    {
      "cell_type": "code",
      "source": [
        "features = ['age', 'cr', 'ej', 'pl', 'se1', 'se2', 'time']\n",
        "features_categ = ['an','di', 'hi', 'sex', 'sm']\n",
        "\n",
        "#scale the dataset\n",
        "from sklearn.preprocessing import StandardScaler\n",
        "from sklearn.preprocessing import OneHotEncoder\n",
        "from sklearn.compose import ColumnTransformer\n",
        "\n",
        "numerical_preprocessor = StandardScaler()\n",
        "\n",
        "#do one-hot encoding for categorical features\n",
        "categorical_preprocessor = OneHotEncoder(handle_unknown=\"ignore\")\n",
        "preprocessor = ColumnTransformer([\n",
        "    ('one-hot-encoder', categorical_preprocessor, features_categ),\n",
        "    ('standard-scaler', numerical_preprocessor, features)])"
      ],
      "metadata": {
        "id": "376VoLcP5mZW"
      },
      "execution_count": null,
      "outputs": []
    },
    {
      "cell_type": "code",
      "source": [
        "from sklearn.pipeline import Pipeline\n",
        "\n",
        "#try Random Forest\n",
        "clf = Pipeline(steps = [('preprocessor', preprocessor), ('classifier', RandomForestClassifier(n_estimators=100,max_depth=3))])"
      ],
      "metadata": {
        "id": "dQ_pVq3I7uih"
      },
      "execution_count": null,
      "outputs": []
    },
    {
      "cell_type": "code",
      "source": [
        "#split the dataset into trainig and testing\n",
        "x_train, x_test, y_train, y_test = train_test_split(X, y, test_size=0.2, random_state=42)"
      ],
      "metadata": {
        "id": "z_16MHEO8S-s"
      },
      "execution_count": null,
      "outputs": []
    },
    {
      "cell_type": "code",
      "source": [
        "clf.fit(x_train, np.ravel(y_train))\n",
        "print(clf.score(x_train,np.ravel(y_train)))\n",
        "print('model score: %.3f' % clf.score(x_test,np.ravel(y_test)))"
      ],
      "metadata": {
        "colab": {
          "base_uri": "https://localhost:8080/"
        },
        "id": "6e1F4zHp8mZm",
        "outputId": "a254e69a-8f70-442f-e076-e9acaa2d36ca"
      },
      "execution_count": null,
      "outputs": [
        {
          "output_type": "stream",
          "name": "stdout",
          "text": [
            "0.9121338912133892\n",
            "model score: 0.733\n"
          ]
        }
      ]
    },
    {
      "cell_type": "code",
      "source": [
        "#evaluate the model using cross-validation\n",
        "score = cross_val_score(clf, X, np.ravel(y), cv=25)\n",
        "print(\"%0.2f accuracy with a standard deviation of %0.2f\" % (score.mean()*100, score.std()))\n",
        "score_test = clf.score(x_test, np.ravel(y_test))\n",
        "print('Test score: ', '{0:.4f}'.format(score_test*100))"
      ],
      "metadata": {
        "colab": {
          "base_uri": "https://localhost:8080/"
        },
        "id": "gC7xbAdy-izE",
        "outputId": "4751caa5-f622-4d71-fb30-af758ef96a88"
      },
      "execution_count": null,
      "outputs": [
        {
          "output_type": "stream",
          "name": "stdout",
          "text": [
            "82.58 accuracy with a standard deviation of 0.15\n",
            "Test score:  73.3333\n"
          ]
        }
      ]
    },
    {
      "cell_type": "code",
      "source": [
        "clf = RandomForestClassifier()\n",
        "#find the best model using GridSearch\n",
        "param_grid = {\n",
        "    'n_estimators': [100, 1000],\n",
        "    'max_depth': [3, 4, 5],\n",
        "    }\n",
        "\n",
        "search = GridSearchCV(clf, param_grid, cv=4, verbose=1,n_jobs=-1)\n",
        "\n",
        "search.fit(x_train, np.ravel(y_train))\n",
        "score = search.score(x_test, np.ravel(y_test))\n",
        "print(\"Best CV score: {} using {}\".format(search.best_score_, search.best_params_))\n",
        "print(\"Test accuracy: {}\".format(score))"
      ],
      "metadata": {
        "colab": {
          "base_uri": "https://localhost:8080/"
        },
        "id": "GmBgJ4r5-4Ku",
        "outputId": "ad808983-a5c1-4b03-83bc-a027c76c7b62"
      },
      "execution_count": null,
      "outputs": [
        {
          "output_type": "stream",
          "name": "stdout",
          "text": [
            "Fitting 4 folds for each of 6 candidates, totalling 24 fits\n",
            "Best CV score: 0.8703389830508474 using {'max_depth': 4, 'n_estimators': 100}\n",
            "Test accuracy: 0.75\n"
          ]
        }
      ]
    },
    {
      "cell_type": "code",
      "source": [
        "randomForestModel = RandomForestClassifier(n_estimators=100,max_depth=5)\n",
        "\n",
        "#evaluate using cross-validation\n",
        "score=cross_val_score(randomForestModel, X, y, cv=20)"
      ],
      "metadata": {
        "id": "8yHwMLht_N38"
      },
      "execution_count": null,
      "outputs": []
    },
    {
      "cell_type": "code",
      "source": [
        "randomForestModel.fit(x_train,np.ravel(y_train))\n",
        "print('Training score: ', randomForestModel.score(x_train,np.ravel(y_train)))\n",
        "print('Test score: ', randomForestModel.score(x_test,np.ravel(y_test)))"
      ],
      "metadata": {
        "colab": {
          "base_uri": "https://localhost:8080/"
        },
        "id": "z-o0GWXH_gN7",
        "outputId": "7714e70e-4b47-4c68-8aee-9803e195e457"
      },
      "execution_count": null,
      "outputs": [
        {
          "output_type": "stream",
          "name": "stdout",
          "text": [
            "Training score:  0.9623430962343096\n",
            "Test score:  0.7666666666666667\n"
          ]
        }
      ]
    },
    {
      "cell_type": "code",
      "source": [
        "#make a prediction and evaluate the performance\n",
        "y_pred = randomForestModel.predict(x_test)\n",
        "\n",
        "score_new = randomForestModel.score(x_test, y_test)\n",
        "print('Test score: ', score_new)"
      ],
      "metadata": {
        "colab": {
          "base_uri": "https://localhost:8080/"
        },
        "id": "R6xjQCMgD26a",
        "outputId": "5078b1f6-b8fe-4c7e-8eef-fe4ac872d610"
      },
      "execution_count": null,
      "outputs": [
        {
          "output_type": "stream",
          "name": "stdout",
          "text": [
            "Test score:  0.7666666666666667\n"
          ]
        }
      ]
    },
    {
      "cell_type": "code",
      "source": [
        "import seaborn as sns\n",
        "from sklearn import metrics\n",
        "#confusion matrix\n",
        "cm = metrics.confusion_matrix(y_test, y_pred)\n",
        "plt.figure(figsize=(10,10))\n",
        "sns.heatmap(cm, annot=True, fmt=\".0f\", linewidths=1, square = True);\n",
        "plt.ylabel('Actual label');\n",
        "plt.xlabel('Predicted label');\n",
        "plt.title('Accuracy Score: {0}'.format(score.mean()), size = 15);"
      ],
      "metadata": {
        "colab": {
          "base_uri": "https://localhost:8080/",
          "height": 574
        },
        "id": "xRkguP00DpUm",
        "outputId": "e3fcc999-c0f8-4d29-ee2e-f7964b3f56a5"
      },
      "execution_count": null,
      "outputs": [
        {
          "output_type": "display_data",
          "data": {
            "image/png": "[encoded data removed]",
            "text/plain": [
              "<Figure size 720x720 with 2 Axes>"
            ]
          },
          "metadata": {
            "needs_background": "light"
          }
        }
      ]
    },
    {
      "cell_type": "code",
      "source": [
        "from sklearn import metrics\n",
        "#AUC\n",
        "metrics.plot_roc_curve(randomForestModel, x_test, y_test)"
      ],
      "metadata": {
        "colab": {
          "base_uri": "https://localhost:8080/",
          "height": 351
        },
        "id": "cIhDse8EEMtZ",
        "outputId": "f6f63f6d-895d-4a90-d4f6-2bc1503edd27"
      },
      "execution_count": null,
      "outputs": [
        {
          "output_type": "stream",
          "name": "stderr",
          "text": [
            "/usr/local/lib/python3.7/dist-packages/sklearn/utils/deprecation.py:87: FutureWarning: Function plot_roc_curve is deprecated; Function :func:`plot_roc_curve` is deprecated in 1.0 and will be removed in 1.2. Use one of the class methods: :meth:`sklearn.metric.RocCurveDisplay.from_predictions` or :meth:`sklearn.metric.RocCurveDisplay.from_estimator`.\n",
            "  warnings.warn(msg, category=FutureWarning)\n"
          ]
        },
        {
          "output_type": "execute_result",
          "data": {
            "text/plain": [
              "<sklearn.metrics._plot.roc_curve.RocCurveDisplay at 0x7f8e4c77a1d0>"
            ]
          },
          "metadata": {},
          "execution_count": 16
        },
        {
          "output_type": "display_data",
          "data": {
            "image/png": "[encoded data removed]",
            "text/plain": [
              "<Figure size 432x288 with 1 Axes>"
            ]
          },
          "metadata": {
            "needs_background": "light"
          }
        }
      ]
    },
    {
      "cell_type": "code",
      "source": [
        "from sklearn.metrics import classification_report\n",
        "\n",
        "print(classification_report(y_test, randomForestModel.predict(x_test)))"
      ],
      "metadata": {
        "colab": {
          "base_uri": "https://localhost:8080/"
        },
        "id": "qO1icSixEWB_",
        "outputId": "9f8598dd-a70a-4ce1-995c-df316ec17715"
      },
      "execution_count": null,
      "outputs": [
        {
          "output_type": "stream",
          "name": "stdout",
          "text": [
            "              precision    recall  f1-score   support\n",
            "\n",
            "           0       0.72      0.97      0.83        35\n",
            "           1       0.92      0.48      0.63        25\n",
            "\n",
            "    accuracy                           0.77        60\n",
            "   macro avg       0.82      0.73      0.73        60\n",
            "weighted avg       0.81      0.77      0.75        60\n",
            "\n"
          ]
        }
      ]
    },
    {
      "cell_type": "code",
      "source": [
        "from pandas import DataFrame\n",
        "feature_df = DataFrame(data.columns.delete(0))\n",
        "feature_df.columns = ['Features']\n",
        "feature_df[\"Feature Importance\"] = pd.Series(randomForestModel.feature_importances_)\n",
        "\n",
        "#view feature importance according to Random Forest model\n",
        "feature_df"
      ],
      "metadata": {
        "colab": {
          "base_uri": "https://localhost:8080/",
          "height": 426
        },
        "id": "0LFAX4JoLxwp",
        "outputId": "bd966b34-f165-4c9c-9a13-46125a1b39af"
      },
      "execution_count": null,
      "outputs": [
        {
          "output_type": "execute_result",
          "data": {
            "text/html": [
              "\n",
              "  <div id=\"df-2b7e2f88-a72f-41eb-8404-5fc9b8a3565f\">\n",
              "    <div class=\"colab-df-container\">\n",
              "      <div>\n",
              "<style scoped>\n",
              "    .dataframe tbody tr th:only-of-type {\n",
              "        vertical-align: middle;\n",
              "    }\n",
              "\n",
              "    .dataframe tbody tr th {\n",
              "        vertical-align: top;\n",
              "    }\n",
              "\n",
              "    .dataframe thead th {\n",
              "        text-align: right;\n",
              "    }\n",
              "</style>\n",
              "<table border=\"1\" class=\"dataframe\">\n",
              "  <thead>\n",
              "    <tr style=\"text-align: right;\">\n",
              "      <th></th>\n",
              "      <th>Features</th>\n",
              "      <th>Feature Importance</th>\n",
              "    </tr>\n",
              "  </thead>\n",
              "  <tbody>\n",
              "    <tr>\n",
              "      <th>0</th>\n",
              "      <td>an</td>\n",
              "      <td>0.093646</td>\n",
              "    </tr>\n",
              "    <tr>\n",
              "      <th>1</th>\n",
              "      <td>cr</td>\n",
              "      <td>0.007402</td>\n",
              "    </tr>\n",
              "    <tr>\n",
              "      <th>2</th>\n",
              "      <td>di</td>\n",
              "      <td>0.046163</td>\n",
              "    </tr>\n",
              "    <tr>\n",
              "      <th>3</th>\n",
              "      <td>ej</td>\n",
              "      <td>0.005310</td>\n",
              "    </tr>\n",
              "    <tr>\n",
              "      <th>4</th>\n",
              "      <td>hi</td>\n",
              "      <td>0.118364</td>\n",
              "    </tr>\n",
              "    <tr>\n",
              "      <th>5</th>\n",
              "      <td>pl</td>\n",
              "      <td>0.005491</td>\n",
              "    </tr>\n",
              "    <tr>\n",
              "      <th>6</th>\n",
              "      <td>se1</td>\n",
              "      <td>0.050751</td>\n",
              "    </tr>\n",
              "    <tr>\n",
              "      <th>7</th>\n",
              "      <td>se2</td>\n",
              "      <td>0.170030</td>\n",
              "    </tr>\n",
              "    <tr>\n",
              "      <th>8</th>\n",
              "      <td>sex</td>\n",
              "      <td>0.039998</td>\n",
              "    </tr>\n",
              "    <tr>\n",
              "      <th>9</th>\n",
              "      <td>sm</td>\n",
              "      <td>0.008117</td>\n",
              "    </tr>\n",
              "    <tr>\n",
              "      <th>10</th>\n",
              "      <td>time</td>\n",
              "      <td>0.007559</td>\n",
              "    </tr>\n",
              "    <tr>\n",
              "      <th>11</th>\n",
              "      <td>DEATH_EVENT</td>\n",
              "      <td>0.447168</td>\n",
              "    </tr>\n",
              "  </tbody>\n",
              "</table>\n",
              "</div>\n",
              "      <button class=\"colab-df-convert\" onclick=\"convertToInteractive('df-2b7e2f88-a72f-41eb-8404-5fc9b8a3565f')\"\n",
              "              title=\"Convert this dataframe to an interactive table.\"\n",
              "              style=\"display:none;\">\n",
              "        \n",
              "  <svg xmlns=\"http://www.w3.org/2000/svg\" height=\"24px\"viewBox=\"0 0 24 24\"\n",
              "       width=\"24px\">\n",
              "    <path d=\"M0 0h24v24H0V0z\" fill=\"none\"/>\n",
              "    <path d=\"M18.56 5.44l.94 2.06.94-2.06 2.06-.94-2.06-.94-.94-2.06-.94 2.06-2.06.94zm-11 1L8.5 8.5l.94-2.06 2.06-.94-2.06-.94L8.5 2.5l-.94 2.06-2.06.94zm10 10l.94 2.06.94-2.06 2.06-.94-2.06-.94-.94-2.06-.94 2.06-2.06.94z\"/><path d=\"M17.41 7.96l-1.37-1.37c-.4-.4-.92-.59-1.43-.59-.52 0-1.04.2-1.43.59L10.3 9.45l-7.72 7.72c-.78.78-.78 2.05 0 2.83L4 21.41c.39.39.9.59 1.41.59.51 0 1.02-.2 1.41-.59l7.78-7.78 2.81-2.81c.8-.78.8-2.07 0-2.86zM5.41 20L4 18.59l7.72-7.72 1.47 1.35L5.41 20z\"/>\n",
              "  </svg>\n",
              "      </button>\n",
              "      \n",
              "  <style>\n",
              "    .colab-df-container {\n",
              "      display:flex;\n",
              "      flex-wrap:wrap;\n",
              "      gap: 12px;\n",
              "    }\n",
              "\n",
              "    .colab-df-convert {\n",
              "      background-color: #E8F0FE;\n",
              "      border: none;\n",
              "      border-radius: 50%;\n",
              "      cursor: pointer;\n",
              "      display: none;\n",
              "      fill: #1967D2;\n",
              "      height: 32px;\n",
              "      padding: 0 0 0 0;\n",
              "      width: 32px;\n",
              "    }\n",
              "\n",
              "    .colab-df-convert:hover {\n",
              "      background-color: #E2EBFA;\n",
              "      box-shadow: 0px 1px 2px rgba(60, 64, 67, 0.3), 0px 1px 3px 1px rgba(60, 64, 67, 0.15);\n",
              "      fill: #174EA6;\n",
              "    }\n",
              "\n",
              "    [theme=dark] .colab-df-convert {\n",
              "      background-color: #3B4455;\n",
              "      fill: #D2E3FC;\n",
              "    }\n",
              "\n",
              "    [theme=dark] .colab-df-convert:hover {\n",
              "      background-color: #434B5C;\n",
              "      box-shadow: 0px 1px 3px 1px rgba(0, 0, 0, 0.15);\n",
              "      filter: drop-shadow(0px 1px 2px rgba(0, 0, 0, 0.3));\n",
              "      fill: #FFFFFF;\n",
              "    }\n",
              "  </style>\n",
              "\n",
              "      <script>\n",
              "        const buttonEl =\n",
              "          document.querySelector('#df-2b7e2f88-a72f-41eb-8404-5fc9b8a3565f button.colab-df-convert');\n",
              "        buttonEl.style.display =\n",
              "          google.colab.kernel.accessAllowed ? 'block' : 'none';\n",
              "\n",
              "        async function convertToInteractive(key) {\n",
              "          const element = document.querySelector('#df-2b7e2f88-a72f-41eb-8404-5fc9b8a3565f');\n",
              "          const dataTable =\n",
              "            await google.colab.kernel.invokeFunction('convertToInteractive',\n",
              "                                                     [key], {});\n",
              "          if (!dataTable) return;\n",
              "\n",
              "          const docLinkHtml = 'Like what you see? Visit the ' +\n",
              "            '<a target=\"_blank\" href=https://colab.research.google.com/notebooks/data_table.ipynb>data table notebook</a>'\n",
              "            + ' to learn more about interactive tables.';\n",
              "          element.innerHTML = '';\n",
              "          dataTable['output_type'] = 'display_data';\n",
              "          await google.colab.output.renderOutput(dataTable, element);\n",
              "          const docLink = document.createElement('div');\n",
              "          docLink.innerHTML = docLinkHtml;\n",
              "          element.appendChild(docLink);\n",
              "        }\n",
              "      </script>\n",
              "    </div>\n",
              "  </div>\n",
              "  "
            ],
            "text/plain": [
              "       Features  Feature Importance\n",
              "0            an            0.093646\n",
              "1            cr            0.007402\n",
              "2            di            0.046163\n",
              "3            ej            0.005310\n",
              "4            hi            0.118364\n",
              "5            pl            0.005491\n",
              "6           se1            0.050751\n",
              "7           se2            0.170030\n",
              "8           sex            0.039998\n",
              "9            sm            0.008117\n",
              "10         time            0.007559\n",
              "11  DEATH_EVENT            0.447168"
            ]
          },
          "metadata": {},
          "execution_count": 117
        }
      ]
    },
    {
      "cell_type": "code",
      "source": [
        "#KNN model\n",
        "\n",
        "clf = Pipeline(steps = [('preprocessor', preprocessor), ('classifier', KNeighborsClassifier(n_neighbors=3))])"
      ],
      "metadata": {
        "id": "gMzqjcx2EjeF"
      },
      "execution_count": null,
      "outputs": []
    },
    {
      "cell_type": "code",
      "source": [
        "clf.fit(x_train,np.ravel(y_train))"
      ],
      "metadata": {
        "colab": {
          "base_uri": "https://localhost:8080/"
        },
        "id": "hYFBBsJZEv9X",
        "outputId": "cea8e814-62ad-4a9d-ce0c-a404598da140"
      },
      "execution_count": null,
      "outputs": [
        {
          "output_type": "execute_result",
          "data": {
            "text/plain": [
              "Pipeline(steps=[('preprocessor',\n",
              "                 ColumnTransformer(transformers=[('one-hot-encoder',\n",
              "                                                  OneHotEncoder(handle_unknown='ignore'),\n",
              "                                                  ['an', 'di', 'hi', 'sex',\n",
              "                                                   'sm']),\n",
              "                                                 ('standard-scaler',\n",
              "                                                  StandardScaler(),\n",
              "                                                  ['age', 'cr', 'ej', 'pl',\n",
              "                                                   'se1', 'se2', 'time'])])),\n",
              "                ('classifier', KNeighborsClassifier(n_neighbors=3))])"
            ]
          },
          "metadata": {},
          "execution_count": 65
        }
      ]
    },
    {
      "cell_type": "code",
      "source": [
        "#evaluate the model using cross-validation\n",
        "score = cross_val_score(clf, X, np.ravel(y), cv=25)\n",
        "print(\"%0.2f accuracy with a standard deviation of %0.2f\" % (scores.mean()*100, scores.std()))\n",
        "score_test = clf.score(x_test, np.ravel(y_test))\n",
        "print('Test score: ', '{0:.4f}'.format(score_test*100))"
      ],
      "metadata": {
        "colab": {
          "base_uri": "https://localhost:8080/"
        },
        "id": "HUGjvXOuFKyz",
        "outputId": "8601f5c9-b3af-400a-9cca-546943e68ac7"
      },
      "execution_count": null,
      "outputs": [
        {
          "output_type": "stream",
          "name": "stdout",
          "text": [
            "71.58 accuracy with a standard deviation of 0.08\n",
            "Test score:  75.0000\n"
          ]
        }
      ]
    },
    {
      "cell_type": "code",
      "source": [
        "#make a prediction and evaluate the performance\n",
        "y_pred = clf.predict(x_test)\n",
        "\n",
        "score_new = clf.score(x_test, y_test)\n",
        "print('Test score: ', score_new)"
      ],
      "metadata": {
        "colab": {
          "base_uri": "https://localhost:8080/"
        },
        "id": "Lv8D_WFaF-uK",
        "outputId": "119330dc-7134-4d3a-9786-c5640dd3a7cb"
      },
      "execution_count": null,
      "outputs": [
        {
          "output_type": "stream",
          "name": "stdout",
          "text": [
            "Test score:  0.75\n"
          ]
        }
      ]
    },
    {
      "cell_type": "code",
      "source": [
        "import seaborn as sns\n",
        "from sklearn import metrics\n",
        "\n",
        "#confusion matrix\n",
        "cm = metrics.confusion_matrix(y_test, y_pred)\n",
        "plt.figure(figsize=(10,10))\n",
        "sns.heatmap(cm, annot=True, fmt=\".0f\", linewidths=1, square = True);\n",
        "plt.ylabel('Actual label');\n",
        "plt.xlabel('Predicted label');\n",
        "plt.title('Accuracy Score: {0}'.format(score.mean()), size = 15);"
      ],
      "metadata": {
        "colab": {
          "base_uri": "https://localhost:8080/",
          "height": 584
        },
        "id": "jFS4qPoOGIgZ",
        "outputId": "5da130f4-2acf-464b-ea6e-ff397df24859"
      },
      "execution_count": null,
      "outputs": [
        {
          "output_type": "display_data",
          "data": {
            "image/png": "[encoded data removed]",
            "text/plain": [
              "<Figure size 720x720 with 2 Axes>"
            ]
          },
          "metadata": {
            "needs_background": "light"
          }
        }
      ]
    },
    {
      "cell_type": "code",
      "source": [
        "from sklearn import metrics\n",
        "#AUC\n",
        "metrics.plot_roc_curve(clf, x_test, y_test)"
      ],
      "metadata": {
        "colab": {
          "base_uri": "https://localhost:8080/",
          "height": 351
        },
        "id": "Nk8Iuq__GO3j",
        "outputId": "71e746f6-32fd-45cb-ca7c-2f46fd9fad0f"
      },
      "execution_count": null,
      "outputs": [
        {
          "output_type": "stream",
          "name": "stderr",
          "text": [
            "/usr/local/lib/python3.7/dist-packages/sklearn/utils/deprecation.py:87: FutureWarning: Function plot_roc_curve is deprecated; Function :func:`plot_roc_curve` is deprecated in 1.0 and will be removed in 1.2. Use one of the class methods: :meth:`sklearn.metric.RocCurveDisplay.from_predictions` or :meth:`sklearn.metric.RocCurveDisplay.from_estimator`.\n",
            "  warnings.warn(msg, category=FutureWarning)\n"
          ]
        },
        {
          "output_type": "execute_result",
          "data": {
            "text/plain": [
              "<sklearn.metrics._plot.roc_curve.RocCurveDisplay at 0x7f382d7ed110>"
            ]
          },
          "metadata": {},
          "execution_count": 69
        },
        {
          "output_type": "display_data",
          "data": {
            "image/png": "[encoded data removed]",
            "text/plain": [
              "<Figure size 432x288 with 1 Axes>"
            ]
          },
          "metadata": {
            "needs_background": "light"
          }
        }
      ]
    },
    {
      "cell_type": "code",
      "source": [
        "from sklearn.metrics import classification_report\n",
        "print(classification_report(y_test, clf.predict(x_test)))"
      ],
      "metadata": {
        "colab": {
          "base_uri": "https://localhost:8080/"
        },
        "id": "l5Yj2C-yGVQT",
        "outputId": "db3d3842-afc3-4a57-b442-52b2cecdf5ec"
      },
      "execution_count": null,
      "outputs": [
        {
          "output_type": "stream",
          "name": "stdout",
          "text": [
            "              precision    recall  f1-score   support\n",
            "\n",
            "           0       0.70      1.00      0.82        35\n",
            "           1       1.00      0.40      0.57        25\n",
            "\n",
            "    accuracy                           0.75        60\n",
            "   macro avg       0.85      0.70      0.70        60\n",
            "weighted avg       0.82      0.75      0.72        60\n",
            "\n"
          ]
        }
      ]
    },
    {
      "cell_type": "code",
      "source": [
        "#Boosting model\n",
        "\n",
        "from sklearn.ensemble import GradientBoostingClassifier\n",
        "#find the best learning rate\n",
        "learning_rates = [0.05, 0.1, 0.25, 0.5, 0.75, 1]\n",
        "for learning_rate in learning_rates:\n",
        "    gb =  Pipeline(steps = [('preprocessor', preprocessor), ('Classifier', GradientBoostingClassifier(n_estimators=30, learning_rate = learning_rate, max_features=13, max_depth = 3, random_state = 0))])\n",
        "    gb.fit(x_train, y_train)\n",
        "    print(\"Learning rate: \", learning_rate)\n",
        "    print(\"Accuracy score (training): {0:.3f}\".format(gb.score(x_train, y_train)))\n",
        "    print(\"Accuracy score (validation): {0:.3f}\".format(gb.score(x_test, y_test)))"
      ],
      "metadata": {
        "colab": {
          "base_uri": "https://localhost:8080/"
        },
        "id": "nLBpW9uMGt5a",
        "outputId": "f6e79903-5382-4405-e17d-8f9601bfe9a2"
      },
      "execution_count": null,
      "outputs": [
        {
          "output_type": "stream",
          "name": "stdout",
          "text": [
            "Learning rate:  0.05\n",
            "Accuracy score (training): 0.946\n",
            "Accuracy score (validation): 0.733\n",
            "Learning rate:  0.1\n",
            "Accuracy score (training): 0.950\n",
            "Accuracy score (validation): 0.750\n",
            "Learning rate:  0.25\n",
            "Accuracy score (training): 0.996\n",
            "Accuracy score (validation): 0.800\n",
            "Learning rate:  0.5\n",
            "Accuracy score (training): 1.000\n",
            "Accuracy score (validation): 0.767\n",
            "Learning rate:  0.75\n",
            "Accuracy score (training): 1.000\n",
            "Accuracy score (validation): 0.683\n",
            "Learning rate:  1\n",
            "Accuracy score (training): 1.000\n",
            "Accuracy score (validation): 0.750\n"
          ]
        }
      ]
    },
    {
      "cell_type": "code",
      "source": [
        "clf =  Pipeline(steps = [('preprocessor', preprocessor), ('Classifier', GradientBoostingClassifier(n_estimators= 30, learning_rate = 0.25, max_features=13, max_depth = 3, random_state = 0))])"
      ],
      "metadata": {
        "id": "jwk9UE9dICdr"
      },
      "execution_count": null,
      "outputs": []
    },
    {
      "cell_type": "code",
      "source": [
        "clf.fit(x_train,np.ravel(y_train))"
      ],
      "metadata": {
        "colab": {
          "base_uri": "https://localhost:8080/"
        },
        "id": "_HnUQY_IInJJ",
        "outputId": "3a833eb2-d490-4207-b40e-67935307dd43"
      },
      "execution_count": null,
      "outputs": [
        {
          "output_type": "execute_result",
          "data": {
            "text/plain": [
              "Pipeline(steps=[('preprocessor',\n",
              "                 ColumnTransformer(transformers=[('one-hot-encoder',\n",
              "                                                  OneHotEncoder(handle_unknown='ignore'),\n",
              "                                                  ['an', 'di', 'hi', 'sex',\n",
              "                                                   'sm']),\n",
              "                                                 ('standard-scaler',\n",
              "                                                  StandardScaler(),\n",
              "                                                  ['age', 'cr', 'ej', 'pl',\n",
              "                                                   'se1', 'se2', 'time'])])),\n",
              "                ('Classifier',\n",
              "                 GradientBoostingClassifier(learning_rate=0.25, max_features=13,\n",
              "                                            n_estimators=30, random_state=0))])"
            ]
          },
          "metadata": {},
          "execution_count": 91
        }
      ]
    },
    {
      "cell_type": "code",
      "source": [
        "#evaluate the models using cross-validation\n",
        "\n",
        "from sklearn.model_selection import cross_val_score\n",
        "scores = cross_val_score(clf, X, np.ravel(y), cv=25)\n",
        "print(\"%0.2f accuracy with a standard deviation of %0.2f\" % (scores.mean()*100, scores.std()))\n",
        "score = clf.score(x_test, np.ravel(y_test))\n",
        "print('Test score (Validation): ', '{0:.4f}'.format(score*100))"
      ],
      "metadata": {
        "colab": {
          "base_uri": "https://localhost:8080/"
        },
        "id": "GaDogeEuIQRn",
        "outputId": "0473218f-ef7a-45ce-9438-902df9c706b1"
      },
      "execution_count": null,
      "outputs": [
        {
          "output_type": "stream",
          "name": "stdout",
          "text": [
            "79.91 accuracy with a standard deviation of 0.14\n",
            "Test score (Validation):  80.0000\n"
          ]
        }
      ]
    },
    {
      "cell_type": "code",
      "source": [
        "#make a prediction and evaluate the performance\n",
        "y_pred = clf.predict(x_test)\n",
        "\n",
        "score_test = clf.score(x_test, y_test)\n",
        "print('Test score: ', score_test )"
      ],
      "metadata": {
        "colab": {
          "base_uri": "https://localhost:8080/"
        },
        "id": "dxjjq63QIt4Z",
        "outputId": "3d16dd63-5db1-4563-b4f0-9fd76f3fd90a"
      },
      "execution_count": null,
      "outputs": [
        {
          "output_type": "stream",
          "name": "stdout",
          "text": [
            "Test score:  0.8\n"
          ]
        }
      ]
    },
    {
      "cell_type": "code",
      "source": [
        "import seaborn as sns\n",
        "from sklearn import metrics\n",
        "\n",
        "#confusion matrix\n",
        "cm = metrics.confusion_matrix(y_test, y_pred)\n",
        "plt.figure(figsize=(10,10))\n",
        "sns.heatmap(cm, annot=True, fmt=\".0f\", linewidths=1, square = True);\n",
        "plt.ylabel('Actual label');\n",
        "plt.xlabel('Predicted label');\n",
        "plt.title('Accuracy Score: {0}'.format(score.mean()), size = 15);"
      ],
      "metadata": {
        "colab": {
          "base_uri": "https://localhost:8080/",
          "height": 574
        },
        "id": "z_NQum-EI2bp",
        "outputId": "e3196746-d9fe-498f-8172-b1565af7fe19"
      },
      "execution_count": null,
      "outputs": [
        {
          "output_type": "display_data",
          "data": {
            "image/png": "[encoded data removed]",
            "text/plain": [
              "<Figure size 720x720 with 2 Axes>"
            ]
          },
          "metadata": {
            "needs_background": "light"
          }
        }
      ]
    },
    {
      "cell_type": "code",
      "source": [
        "from sklearn import metrics\n",
        "#AUC\n",
        "metrics.plot_roc_curve(clf, X, y)"
      ],
      "metadata": {
        "colab": {
          "base_uri": "https://localhost:8080/",
          "height": 351
        },
        "id": "O9GWlcNSI5oP",
        "outputId": "e7400493-32d7-4492-b477-8bdf51f8ea8f"
      },
      "execution_count": null,
      "outputs": [
        {
          "output_type": "stream",
          "name": "stderr",
          "text": [
            "/usr/local/lib/python3.7/dist-packages/sklearn/utils/deprecation.py:87: FutureWarning: Function plot_roc_curve is deprecated; Function :func:`plot_roc_curve` is deprecated in 1.0 and will be removed in 1.2. Use one of the class methods: :meth:`sklearn.metric.RocCurveDisplay.from_predictions` or :meth:`sklearn.metric.RocCurveDisplay.from_estimator`.\n",
            "  warnings.warn(msg, category=FutureWarning)\n"
          ]
        },
        {
          "output_type": "execute_result",
          "data": {
            "text/plain": [
              "<sklearn.metrics._plot.roc_curve.RocCurveDisplay at 0x7f382d6f3350>"
            ]
          },
          "metadata": {},
          "execution_count": 95
        },
        {
          "output_type": "display_data",
          "data": {
            "image/png": "[encoded data removed]",
            "text/plain": [
              "<Figure size 432x288 with 1 Axes>"
            ]
          },
          "metadata": {
            "needs_background": "light"
          }
        }
      ]
    },
    {
      "cell_type": "code",
      "source": [
        "from sklearn.metrics import classification_report\n",
        "print(classification_report(y_test, clf.predict(x_test)))\n"
      ],
      "metadata": {
        "colab": {
          "base_uri": "https://localhost:8080/"
        },
        "id": "nkMgIMOKJBED",
        "outputId": "66392d29-9b85-4f9a-ed0a-6a2d2bb03d76"
      },
      "execution_count": null,
      "outputs": [
        {
          "output_type": "stream",
          "name": "stdout",
          "text": [
            "              precision    recall  f1-score   support\n",
            "\n",
            "           0       0.77      0.94      0.85        35\n",
            "           1       0.88      0.60      0.71        25\n",
            "\n",
            "    accuracy                           0.80        60\n",
            "   macro avg       0.82      0.77      0.78        60\n",
            "weighted avg       0.82      0.80      0.79        60\n",
            "\n"
          ]
        }
      ]
    },
    {
      "cell_type": "markdown",
      "source": [
        "## Death vs time\n",
        "The boxplot below illustrates the relationship between death and how long time it was between the measurements were taken and the followup event, when the patient health was checked (female=blue, male=orange).\n",
        "\n",
        "It is noted that  short followup time is highly related to high probability of death, for both sexes. An explanation could be that severly unhealthy patients were followed up earlier, based on medical expert decisions."
      ],
      "metadata": {
        "id": "M_yXNN7vWTsr"
      }
    },
    {
      "cell_type": "code",
      "source": [
        "fig, ax = plt.subplots(figsize = (8, 8))\n",
        "survive = data.loc[(data.DEATH_EVENT == 0)].time\n",
        "death = data.loc[(data.DEATH_EVENT == 1)].time\n",
        "print('time_survived = {:.1f}'.format(survive.mean()))\n",
        "print('time_dead = {:.1f}'.format(death.mean()))\n",
        "\n",
        "sns.boxplot(data = data, x = 'DEATH_EVENT', y = 'time', hue = 'sex', width = 0.4, ax = ax, fliersize = 3, palette=sns.color_palette(\"pastel\"))\n",
        "sns.stripplot(data = data, x = 'DEATH_EVENT', y = 'time', hue = 'sex', size = 3, palette=sns.color_palette())\n",
        "ax.set(xlabel = 'DEATH', ylabel = \"time [days] \", title = 'The relationship between death and time')\n",
        "plt.show()"
      ],
      "metadata": {
        "execution": {
          "iopub.status.busy": "2021-12-15T10:12:22.188416Z",
          "iopub.execute_input": "2021-12-15T10:12:22.188995Z",
          "iopub.status.idle": "2021-12-15T10:12:22.644523Z",
          "shell.execute_reply.started": "2021-12-15T10:12:22.18896Z",
          "shell.execute_reply": "2021-12-15T10:12:22.643451Z"
        },
        "trusted": true,
        "id": "q0l7IKseWTss",
        "colab": {
          "base_uri": "https://localhost:8080/",
          "height": 548
        },
        "outputId": "19c92184-ec47-4e54-ae5b-62fb3484adb1"
      },
      "execution_count": null,
      "outputs": [
        {
          "output_type": "stream",
          "name": "stdout",
          "text": [
            "time_survived = 158.3\n",
            "time_dead = 70.9\n"
          ]
        },
        {
          "output_type": "display_data",
          "data": {
            "image/png": "[encoded data removed]",
            "text/plain": [
              "<Figure size 576x576 with 1 Axes>"
            ]
          },
          "metadata": {
            "needs_background": "light"
          }
        }
      ]
    },
    {
      "cell_type": "code",
      "source": [
        "# If we want to drop time as feature, we can use\n",
        "Xnew = data.iloc[:,:-2].values"
      ],
      "metadata": {
        "id": "Roihe1liWTtC"
      },
      "execution_count": null,
      "outputs": []
    },
    {
      "cell_type": "code",
      "source": [
        "# select which features to use\n",
        "\n",
        "Xnew = data.drop(columns=['DEATH_EVENT', 'time', 'sm', 'ej','age','cr','pl','se1','an','di','sex'])\n",
        "y = data.loc[:,'DEATH_EVENT'].values"
      ],
      "metadata": {
        "id": "P1uF3VF5NAqv"
      },
      "execution_count": null,
      "outputs": []
    },
    {
      "cell_type": "code",
      "source": [
        "features = ['se2','hi']\n",
        "#features_categ = ['an','di', 'hi', 'sex']\n",
        "\n",
        "#scale the dataset\n",
        "from sklearn.preprocessing import StandardScaler\n",
        "from sklearn.preprocessing import OneHotEncoder\n",
        "from sklearn.compose import ColumnTransformer\n",
        "\n",
        "numerical_preprocessor = StandardScaler()\n",
        "\n",
        "#do one-hot encoding for categorical features\n",
        "categorical_preprocessor = OneHotEncoder(handle_unknown=\"ignore\")\n",
        "preprocessor = ColumnTransformer([\n",
        "    #('one-hot-encoder', categorical_preprocessor, features_categ),\n",
        "    ('standard-scaler', numerical_preprocessor, features)])"
      ],
      "metadata": {
        "id": "t9KVcKMcNTSD"
      },
      "execution_count": null,
      "outputs": []
    },
    {
      "cell_type": "code",
      "source": [
        "from sklearn.pipeline import Pipeline\n",
        "\n",
        "#try Random Forest\n",
        "clf = Pipeline(steps = [('preprocessor', preprocessor), ('classifier', RandomForestClassifier(n_estimators=1000,max_depth=3))])"
      ],
      "metadata": {
        "id": "mdfRtCXYNok-"
      },
      "execution_count": null,
      "outputs": []
    },
    {
      "cell_type": "code",
      "source": [
        "#split the dataset into trainig and testing\n",
        "x_train_new, x_test_new, y_train_new, y_test_new = train_test_split(Xnew, y, test_size=0.2, random_state=42)"
      ],
      "metadata": {
        "id": "a1E3RoN-NyEu"
      },
      "execution_count": null,
      "outputs": []
    },
    {
      "cell_type": "code",
      "source": [
        "clf.fit(x_train_new, np.ravel(y_train_new))\n",
        "print(clf.score(x_train_new,np.ravel(y_train_new)))\n",
        "print('model score: %.3f' % clf.score(x_test_new,np.ravel(y_test_new)))"
      ],
      "metadata": {
        "colab": {
          "base_uri": "https://localhost:8080/"
        },
        "id": "WUklU33rOiUC",
        "outputId": "9d326322-1990-46f0-d83f-7ce95053eeb3"
      },
      "execution_count": null,
      "outputs": [
        {
          "output_type": "stream",
          "name": "stdout",
          "text": [
            "0.7280334728033473\n",
            "model score: 0.617\n"
          ]
        }
      ]
    },
    {
      "cell_type": "code",
      "source": [
        "clf = RandomForestClassifier()\n",
        "\n",
        "param_grid = {\n",
        "    'n_estimators': [100, 1000],\n",
        "    'max_depth': [3, 4, 5],\n",
        "    }\n",
        "\n",
        "search = GridSearchCV(clf, param_grid, cv=4, verbose=1,n_jobs=-1)\n",
        "\n",
        "search.fit(x_train_new, np.ravel(y_train_new))\n",
        "score = search.score(x_test_new, np.ravel(y_test_new))\n",
        "print(\"Best CV score: {} using {}\".format(search.best_score_, search.best_params_))\n",
        "print(\"Test accuracy: {}\".format(score))"
      ],
      "metadata": {
        "colab": {
          "base_uri": "https://localhost:8080/"
        },
        "id": "zHsVfWgTO7Jg",
        "outputId": "a6a587e5-803c-4d3e-8b95-a06de83dd156"
      },
      "execution_count": null,
      "outputs": [
        {
          "output_type": "stream",
          "name": "stdout",
          "text": [
            "Fitting 4 folds for each of 6 candidates, totalling 24 fits\n",
            "Best CV score: 0.6903954802259887 using {'max_depth': 4, 'n_estimators': 100}\n",
            "Test accuracy: 0.5666666666666667\n"
          ]
        }
      ]
    },
    {
      "cell_type": "code",
      "source": [
        "randomForestModel = RandomForestClassifier(n_estimators=100,max_depth=4)\n",
        "\n",
        "#cross-val score\n",
        "score=cross_val_score(randomForestModel, Xnew, y, cv=20)"
      ],
      "metadata": {
        "id": "oYIyopVwPOfD"
      },
      "execution_count": null,
      "outputs": []
    },
    {
      "cell_type": "code",
      "source": [
        "randomForestModel.fit(x_train_new,np.ravel(y_train_new))\n",
        "print('Training score: ', randomForestModel.score(x_train_new,np.ravel(y_train_new)))\n",
        "print('Test score: ', randomForestModel.score(x_test_new,np.ravel(y_test_new)))"
      ],
      "metadata": {
        "colab": {
          "base_uri": "https://localhost:8080/"
        },
        "id": "aZCrARQkPXIX",
        "outputId": "c57e48e2-9841-43ed-8dc3-714375344832"
      },
      "execution_count": null,
      "outputs": [
        {
          "output_type": "stream",
          "name": "stdout",
          "text": [
            "Training score:  0.7364016736401674\n",
            "Test score:  0.6166666666666667\n"
          ]
        }
      ]
    }
  ]
}